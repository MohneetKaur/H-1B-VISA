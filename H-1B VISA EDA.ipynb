{
 "cells": [
  {
   "cell_type": "code",
   "execution_count": 1,
   "id": "2b59e2b5",
   "metadata": {},
   "outputs": [],
   "source": [
    "import numpy as np\n",
    "import matplotlib\n",
    "%matplotlib inline\n",
    "import pandas as pd\n",
    "import matplotlib.pyplot as plt\n",
    "import seaborn as sns\n",
    "plt.style.use('seaborn')"
   ]
  },
  {
   "cell_type": "code",
   "execution_count": 2,
   "id": "e70eae46",
   "metadata": {},
   "outputs": [
    {
     "name": "stderr",
     "output_type": "stream",
     "text": [
      "C:\\Users\\HP\\anaconda3\\lib\\site-packages\\IPython\\core\\interactiveshell.py:3444: DtypeWarning: Columns (0,1,2,3,4,5,6,7,8,9,10,11,13,14,19,20,21,22,23,24,25,26,27,28,29,31,32,33,34,35,36,37,38,39,40,41,42,43,45,46,47,48,49,50,51,52,53,54,55,57,58,59,61,64,66,67,68,69,70,71,72,73,76,78,79,80,82,85,87,88,89,90,91,92,93,94,97,98,99,100,101,103,106,108,109,110,111,112,113,114,115,121,122,124,127,129,130,131,132,133,134,135,136,142,143,145,148,150,151,152,153,154,155,156,157,160,162,163,164,166,169,171,172,173,174,175,176,177,178,184,185,187,190,192,193,194,195,196,197,198,199,205,206,208,211,213,214,215,216,217,218,219,220,223,225,226,227,229,232,234,235,236,237,238,239,240,244,246,247,248,250,253,254,255,256,257,258,259) have mixed types.Specify dtype option on import or set low_memory=False.\n",
      "  exec(code_obj, self.user_global_ns, self.user_ns)\n"
     ]
    }
   ],
   "source": [
    "df=pd.read_csv('C:\\\\Users\\\\HP\\\\Documents\\\\internship\\\\H-1B_Disclosure_Data_FY2019.csv')"
   ]
  },
  {
   "cell_type": "code",
   "execution_count": 3,
   "id": "01c8d94a",
   "metadata": {},
   "outputs": [
    {
     "data": {
      "text/html": [
       "<div>\n",
       "<style scoped>\n",
       "    .dataframe tbody tr th:only-of-type {\n",
       "        vertical-align: middle;\n",
       "    }\n",
       "\n",
       "    .dataframe tbody tr th {\n",
       "        vertical-align: top;\n",
       "    }\n",
       "\n",
       "    .dataframe thead th {\n",
       "        text-align: right;\n",
       "    }\n",
       "</style>\n",
       "<table border=\"1\" class=\"dataframe\">\n",
       "  <thead>\n",
       "    <tr style=\"text-align: right;\">\n",
       "      <th></th>\n",
       "      <th>CASE_NUMBER</th>\n",
       "      <th>CASE_STATUS</th>\n",
       "      <th>CASE_SUBMITTED</th>\n",
       "      <th>DECISION_DATE</th>\n",
       "      <th>ORIGINAL_CERT_DATE</th>\n",
       "      <th>VISA_CLASS</th>\n",
       "      <th>JOB_TITLE</th>\n",
       "      <th>SOC_CODE</th>\n",
       "      <th>SOC_TITLE</th>\n",
       "      <th>FULL_TIME_POSITION</th>\n",
       "      <th>...</th>\n",
       "      <th>PW_OTHER_SOURCE_10</th>\n",
       "      <th>PW_NON-OES_YEAR_10</th>\n",
       "      <th>PW_SURVEY_PUBLISHER_10</th>\n",
       "      <th>PW_SURVEY_NAME_10</th>\n",
       "      <th>H-1B_DEPENDENT</th>\n",
       "      <th>WILLFUL_VIOLATOR</th>\n",
       "      <th>SUPPORT_H1B</th>\n",
       "      <th>STATUTORY_BASIS</th>\n",
       "      <th>MASTERS_EXEMPTION</th>\n",
       "      <th>PUBLIC_DISCLOSURE</th>\n",
       "    </tr>\n",
       "  </thead>\n",
       "  <tbody>\n",
       "    <tr>\n",
       "      <th>0</th>\n",
       "      <td>I-200-16092-327771</td>\n",
       "      <td>WITHDRAWN</td>\n",
       "      <td>08-04-2016</td>\n",
       "      <td>30-04-2019</td>\n",
       "      <td>NaN</td>\n",
       "      <td>H-1B</td>\n",
       "      <td>ASSOCIATE CREATIVE DIRECTOR</td>\n",
       "      <td>11-2011</td>\n",
       "      <td>ADVERTISING AND PROMOTIONS MANAGERS</td>\n",
       "      <td>Y</td>\n",
       "      <td>...</td>\n",
       "      <td>NaN</td>\n",
       "      <td>NaN</td>\n",
       "      <td>NaN</td>\n",
       "      <td>NaN</td>\n",
       "      <td>N</td>\n",
       "      <td>N</td>\n",
       "      <td>NaN</td>\n",
       "      <td>NaN</td>\n",
       "      <td>NaN</td>\n",
       "      <td>NaN</td>\n",
       "    </tr>\n",
       "    <tr>\n",
       "      <th>1</th>\n",
       "      <td>I-203-17188-450729</td>\n",
       "      <td>WITHDRAWN</td>\n",
       "      <td>14-07-2017</td>\n",
       "      <td>13-05-2019</td>\n",
       "      <td>NaN</td>\n",
       "      <td>E-3 Australian</td>\n",
       "      <td>ACCOUNT SUPERVISOR (MOTHER)</td>\n",
       "      <td>11-2011</td>\n",
       "      <td>ADVERTISING AND PROMOTIONS MANAGERS</td>\n",
       "      <td>Y</td>\n",
       "      <td>...</td>\n",
       "      <td>NaN</td>\n",
       "      <td>NaN</td>\n",
       "      <td>NaN</td>\n",
       "      <td>NaN</td>\n",
       "      <td>NaN</td>\n",
       "      <td>NaN</td>\n",
       "      <td>NaN</td>\n",
       "      <td>NaN</td>\n",
       "      <td>NaN</td>\n",
       "      <td>NaN</td>\n",
       "    </tr>\n",
       "    <tr>\n",
       "      <th>2</th>\n",
       "      <td>I-203-17229-572307</td>\n",
       "      <td>WITHDRAWN</td>\n",
       "      <td>23-08-2017</td>\n",
       "      <td>30-04-2019</td>\n",
       "      <td>NaN</td>\n",
       "      <td>E-3 Australian</td>\n",
       "      <td>EXECUTIVE CREATIVE DIRECTOR</td>\n",
       "      <td>11-2011</td>\n",
       "      <td>ADVERTISING AND PROMOTIONS MANAGERS</td>\n",
       "      <td>Y</td>\n",
       "      <td>...</td>\n",
       "      <td>NaN</td>\n",
       "      <td>NaN</td>\n",
       "      <td>NaN</td>\n",
       "      <td>NaN</td>\n",
       "      <td>NaN</td>\n",
       "      <td>NaN</td>\n",
       "      <td>NaN</td>\n",
       "      <td>NaN</td>\n",
       "      <td>NaN</td>\n",
       "      <td>NaN</td>\n",
       "    </tr>\n",
       "    <tr>\n",
       "      <th>3</th>\n",
       "      <td>I-203-17356-299648</td>\n",
       "      <td>WITHDRAWN</td>\n",
       "      <td>22-12-2017</td>\n",
       "      <td>20-08-2019</td>\n",
       "      <td>NaN</td>\n",
       "      <td>E-3 Australian</td>\n",
       "      <td>PROJECT MANAGEMENT LEAD</td>\n",
       "      <td>11-2011</td>\n",
       "      <td>ADVERTISING AND PROMOTIONS MANAGERS</td>\n",
       "      <td>Y</td>\n",
       "      <td>...</td>\n",
       "      <td>NaN</td>\n",
       "      <td>NaN</td>\n",
       "      <td>NaN</td>\n",
       "      <td>NaN</td>\n",
       "      <td>NaN</td>\n",
       "      <td>NaN</td>\n",
       "      <td>NaN</td>\n",
       "      <td>NaN</td>\n",
       "      <td>NaN</td>\n",
       "      <td>NaN</td>\n",
       "    </tr>\n",
       "    <tr>\n",
       "      <th>4</th>\n",
       "      <td>I-203-18008-577576</td>\n",
       "      <td>WITHDRAWN</td>\n",
       "      <td>10-01-2018</td>\n",
       "      <td>15-04-2019</td>\n",
       "      <td>NaN</td>\n",
       "      <td>E-3 Australian</td>\n",
       "      <td>CREATIVE DIRECTOR, UX</td>\n",
       "      <td>11-2011</td>\n",
       "      <td>ADVERTISING AND PROMOTIONS MANAGERS</td>\n",
       "      <td>Y</td>\n",
       "      <td>...</td>\n",
       "      <td>NaN</td>\n",
       "      <td>NaN</td>\n",
       "      <td>NaN</td>\n",
       "      <td>NaN</td>\n",
       "      <td>NaN</td>\n",
       "      <td>NaN</td>\n",
       "      <td>NaN</td>\n",
       "      <td>NaN</td>\n",
       "      <td>NaN</td>\n",
       "      <td>NaN</td>\n",
       "    </tr>\n",
       "  </tbody>\n",
       "</table>\n",
       "<p>5 rows × 260 columns</p>\n",
       "</div>"
      ],
      "text/plain": [
       "          CASE_NUMBER CASE_STATUS CASE_SUBMITTED DECISION_DATE  \\\n",
       "0  I-200-16092-327771   WITHDRAWN     08-04-2016    30-04-2019   \n",
       "1  I-203-17188-450729   WITHDRAWN     14-07-2017    13-05-2019   \n",
       "2  I-203-17229-572307   WITHDRAWN     23-08-2017    30-04-2019   \n",
       "3  I-203-17356-299648   WITHDRAWN     22-12-2017    20-08-2019   \n",
       "4  I-203-18008-577576   WITHDRAWN     10-01-2018    15-04-2019   \n",
       "\n",
       "  ORIGINAL_CERT_DATE      VISA_CLASS                    JOB_TITLE SOC_CODE  \\\n",
       "0                NaN            H-1B  ASSOCIATE CREATIVE DIRECTOR  11-2011   \n",
       "1                NaN  E-3 Australian  ACCOUNT SUPERVISOR (MOTHER)  11-2011   \n",
       "2                NaN  E-3 Australian  EXECUTIVE CREATIVE DIRECTOR  11-2011   \n",
       "3                NaN  E-3 Australian      PROJECT MANAGEMENT LEAD  11-2011   \n",
       "4                NaN  E-3 Australian        CREATIVE DIRECTOR, UX  11-2011   \n",
       "\n",
       "                             SOC_TITLE FULL_TIME_POSITION  ...  \\\n",
       "0  ADVERTISING AND PROMOTIONS MANAGERS                  Y  ...   \n",
       "1  ADVERTISING AND PROMOTIONS MANAGERS                  Y  ...   \n",
       "2  ADVERTISING AND PROMOTIONS MANAGERS                  Y  ...   \n",
       "3  ADVERTISING AND PROMOTIONS MANAGERS                  Y  ...   \n",
       "4  ADVERTISING AND PROMOTIONS MANAGERS                  Y  ...   \n",
       "\n",
       "  PW_OTHER_SOURCE_10 PW_NON-OES_YEAR_10  PW_SURVEY_PUBLISHER_10  \\\n",
       "0                NaN                NaN                     NaN   \n",
       "1                NaN                NaN                     NaN   \n",
       "2                NaN                NaN                     NaN   \n",
       "3                NaN                NaN                     NaN   \n",
       "4                NaN                NaN                     NaN   \n",
       "\n",
       "  PW_SURVEY_NAME_10 H-1B_DEPENDENT  WILLFUL_VIOLATOR  SUPPORT_H1B  \\\n",
       "0               NaN              N                 N          NaN   \n",
       "1               NaN            NaN               NaN          NaN   \n",
       "2               NaN            NaN               NaN          NaN   \n",
       "3               NaN            NaN               NaN          NaN   \n",
       "4               NaN            NaN               NaN          NaN   \n",
       "\n",
       "   STATUTORY_BASIS  MASTERS_EXEMPTION PUBLIC_DISCLOSURE  \n",
       "0              NaN                NaN               NaN  \n",
       "1              NaN                NaN               NaN  \n",
       "2              NaN                NaN               NaN  \n",
       "3              NaN                NaN               NaN  \n",
       "4              NaN                NaN               NaN  \n",
       "\n",
       "[5 rows x 260 columns]"
      ]
     },
     "execution_count": 3,
     "metadata": {},
     "output_type": "execute_result"
    }
   ],
   "source": [
    "df.head()"
   ]
  },
  {
   "cell_type": "code",
   "execution_count": 4,
   "id": "ba1c0535",
   "metadata": {},
   "outputs": [
    {
     "data": {
      "text/plain": [
       "CASE_NUMBER           True\n",
       "CASE_STATUS           True\n",
       "CASE_SUBMITTED        True\n",
       "DECISION_DATE         True\n",
       "ORIGINAL_CERT_DATE    True\n",
       "                      ... \n",
       "WILLFUL_VIOLATOR      True\n",
       "SUPPORT_H1B           True\n",
       "STATUTORY_BASIS       True\n",
       "MASTERS_EXEMPTION     True\n",
       "PUBLIC_DISCLOSURE     True\n",
       "Length: 260, dtype: bool"
      ]
     },
     "execution_count": 4,
     "metadata": {},
     "output_type": "execute_result"
    }
   ],
   "source": [
    "df.isnull().any()"
   ]
  },
  {
   "cell_type": "code",
   "execution_count": 5,
   "id": "600255c9",
   "metadata": {},
   "outputs": [
    {
     "name": "stdout",
     "output_type": "stream",
     "text": [
      "<class 'pandas.core.frame.DataFrame'>\n",
      "RangeIndex: 1048547 entries, 0 to 1048546\n",
      "Columns: 260 entries, CASE_NUMBER to PUBLIC_DISCLOSURE\n",
      "dtypes: float64(82), object(178)\n",
      "memory usage: 2.0+ GB\n"
     ]
    }
   ],
   "source": [
    "df.info()"
   ]
  },
  {
   "cell_type": "code",
   "execution_count": 6,
   "id": "9353eebc",
   "metadata": {},
   "outputs": [
    {
     "data": {
      "text/html": [
       "<div>\n",
       "<style scoped>\n",
       "    .dataframe tbody tr th:only-of-type {\n",
       "        vertical-align: middle;\n",
       "    }\n",
       "\n",
       "    .dataframe tbody tr th {\n",
       "        vertical-align: top;\n",
       "    }\n",
       "\n",
       "    .dataframe thead th {\n",
       "        text-align: right;\n",
       "    }\n",
       "</style>\n",
       "<table border=\"1\" class=\"dataframe\">\n",
       "  <thead>\n",
       "    <tr style=\"text-align: right;\">\n",
       "      <th></th>\n",
       "      <th>TOTAL_WORKER_POSITIONS</th>\n",
       "      <th>CHANGE_PREVIOUS_EMPLOYMENT</th>\n",
       "      <th>NEW_CONCURRENT_EMPLOYMENT</th>\n",
       "      <th>CHANGE_EMPLOYER</th>\n",
       "      <th>AMENDED_PETITION</th>\n",
       "      <th>NAICS_CODE</th>\n",
       "      <th>WORKSITE_WORKERS_1</th>\n",
       "      <th>PREVAILING_WAGE_1</th>\n",
       "      <th>PW_OES_YEAR_1</th>\n",
       "      <th>PW_NON-OES_YEAR_1</th>\n",
       "      <th>...</th>\n",
       "      <th>PW_NON-OES_YEAR_9</th>\n",
       "      <th>PW_SURVEY_PUBLISHER_9</th>\n",
       "      <th>WORKSITE_WORKERS_10</th>\n",
       "      <th>WORKSITE_POSTAL_CODE_10</th>\n",
       "      <th>WAGE_RATE_OF_PAY_FROM_10</th>\n",
       "      <th>WAGE_RATE_OF_PAY_TO_10</th>\n",
       "      <th>PREVAILING_WAGE_10</th>\n",
       "      <th>PW_OES_YEAR_10</th>\n",
       "      <th>PW_NON-OES_YEAR_10</th>\n",
       "      <th>PW_SURVEY_PUBLISHER_10</th>\n",
       "    </tr>\n",
       "  </thead>\n",
       "  <tbody>\n",
       "    <tr>\n",
       "      <th>count</th>\n",
       "      <td>664614.000000</td>\n",
       "      <td>664616.000000</td>\n",
       "      <td>664615.000000</td>\n",
       "      <td>664616.000000</td>\n",
       "      <td>664616.000000</td>\n",
       "      <td>664614.000000</td>\n",
       "      <td>580900.000000</td>\n",
       "      <td>631369.000000</td>\n",
       "      <td>75340.000000</td>\n",
       "      <td>5.540460e+05</td>\n",
       "      <td>...</td>\n",
       "      <td>303.000000</td>\n",
       "      <td>93.000000</td>\n",
       "      <td>288.000000</td>\n",
       "      <td>288.000000</td>\n",
       "      <td>288.000000</td>\n",
       "      <td>120.000000</td>\n",
       "      <td>288.000000</td>\n",
       "      <td>79.000000</td>\n",
       "      <td>206.000000</td>\n",
       "      <td>79.000000</td>\n",
       "    </tr>\n",
       "    <tr>\n",
       "      <th>mean</th>\n",
       "      <td>1.604953</td>\n",
       "      <td>0.121800</td>\n",
       "      <td>0.013208</td>\n",
       "      <td>0.254923</td>\n",
       "      <td>0.223296</td>\n",
       "      <td>450965.588053</td>\n",
       "      <td>5.118612</td>\n",
       "      <td>84331.625656</td>\n",
       "      <td>2020.530130</td>\n",
       "      <td>2.035588e+03</td>\n",
       "      <td>...</td>\n",
       "      <td>2018.412541</td>\n",
       "      <td>2018.161290</td>\n",
       "      <td>3.378472</td>\n",
       "      <td>47751.086806</td>\n",
       "      <td>121666.356007</td>\n",
       "      <td>124975.303417</td>\n",
       "      <td>87865.179583</td>\n",
       "      <td>2018.253165</td>\n",
       "      <td>2018.407767</td>\n",
       "      <td>2018.253165</td>\n",
       "    </tr>\n",
       "    <tr>\n",
       "      <th>std</th>\n",
       "      <td>4.422125</td>\n",
       "      <td>0.907174</td>\n",
       "      <td>0.283244</td>\n",
       "      <td>1.109193</td>\n",
       "      <td>0.896687</td>\n",
       "      <td>190115.692575</td>\n",
       "      <td>489.230557</td>\n",
       "      <td>35950.599109</td>\n",
       "      <td>399.781123</td>\n",
       "      <td>1.173290e+04</td>\n",
       "      <td>...</td>\n",
       "      <td>0.550233</td>\n",
       "      <td>0.726671</td>\n",
       "      <td>5.718649</td>\n",
       "      <td>29978.676785</td>\n",
       "      <td>103333.352227</td>\n",
       "      <td>122285.307455</td>\n",
       "      <td>64047.134457</td>\n",
       "      <td>0.518092</td>\n",
       "      <td>0.548824</td>\n",
       "      <td>0.518092</td>\n",
       "    </tr>\n",
       "    <tr>\n",
       "      <th>min</th>\n",
       "      <td>1.000000</td>\n",
       "      <td>0.000000</td>\n",
       "      <td>0.000000</td>\n",
       "      <td>0.000000</td>\n",
       "      <td>0.000000</td>\n",
       "      <td>31.000000</td>\n",
       "      <td>1.000000</td>\n",
       "      <td>7.250000</td>\n",
       "      <td>1.000000</td>\n",
       "      <td>1.000000e+00</td>\n",
       "      <td>...</td>\n",
       "      <td>2018.000000</td>\n",
       "      <td>2013.000000</td>\n",
       "      <td>1.000000</td>\n",
       "      <td>2115.000000</td>\n",
       "      <td>11.200000</td>\n",
       "      <td>11.200000</td>\n",
       "      <td>9.530000</td>\n",
       "      <td>2017.000000</td>\n",
       "      <td>2018.000000</td>\n",
       "      <td>2017.000000</td>\n",
       "    </tr>\n",
       "    <tr>\n",
       "      <th>25%</th>\n",
       "      <td>1.000000</td>\n",
       "      <td>0.000000</td>\n",
       "      <td>0.000000</td>\n",
       "      <td>0.000000</td>\n",
       "      <td>0.000000</td>\n",
       "      <td>454111.000000</td>\n",
       "      <td>1.000000</td>\n",
       "      <td>68578.000000</td>\n",
       "      <td>2018.000000</td>\n",
       "      <td>2.018000e+03</td>\n",
       "      <td>...</td>\n",
       "      <td>2018.000000</td>\n",
       "      <td>2018.000000</td>\n",
       "      <td>1.000000</td>\n",
       "      <td>18510.000000</td>\n",
       "      <td>58067.190000</td>\n",
       "      <td>77.025000</td>\n",
       "      <td>55640.000000</td>\n",
       "      <td>2018.000000</td>\n",
       "      <td>2018.000000</td>\n",
       "      <td>2018.000000</td>\n",
       "    </tr>\n",
       "    <tr>\n",
       "      <th>50%</th>\n",
       "      <td>1.000000</td>\n",
       "      <td>0.000000</td>\n",
       "      <td>0.000000</td>\n",
       "      <td>0.000000</td>\n",
       "      <td>0.000000</td>\n",
       "      <td>541511.000000</td>\n",
       "      <td>1.000000</td>\n",
       "      <td>84240.000000</td>\n",
       "      <td>2018.000000</td>\n",
       "      <td>2.018000e+03</td>\n",
       "      <td>...</td>\n",
       "      <td>2018.000000</td>\n",
       "      <td>2018.000000</td>\n",
       "      <td>1.000000</td>\n",
       "      <td>44011.000000</td>\n",
       "      <td>89718.050000</td>\n",
       "      <td>89416.550000</td>\n",
       "      <td>65159.000000</td>\n",
       "      <td>2018.000000</td>\n",
       "      <td>2018.000000</td>\n",
       "      <td>2018.000000</td>\n",
       "    </tr>\n",
       "    <tr>\n",
       "      <th>75%</th>\n",
       "      <td>1.000000</td>\n",
       "      <td>0.000000</td>\n",
       "      <td>0.000000</td>\n",
       "      <td>0.000000</td>\n",
       "      <td>0.000000</td>\n",
       "      <td>541512.000000</td>\n",
       "      <td>1.000000</td>\n",
       "      <td>102648.000000</td>\n",
       "      <td>2018.000000</td>\n",
       "      <td>2.019000e+03</td>\n",
       "      <td>...</td>\n",
       "      <td>2019.000000</td>\n",
       "      <td>2018.000000</td>\n",
       "      <td>1.000000</td>\n",
       "      <td>77786.000000</td>\n",
       "      <td>205500.000000</td>\n",
       "      <td>210000.000000</td>\n",
       "      <td>120161.500000</td>\n",
       "      <td>2019.000000</td>\n",
       "      <td>2019.000000</td>\n",
       "      <td>2019.000000</td>\n",
       "    </tr>\n",
       "    <tr>\n",
       "      <th>max</th>\n",
       "      <td>594.000000</td>\n",
       "      <td>338.000000</td>\n",
       "      <td>99.000000</td>\n",
       "      <td>99.000000</td>\n",
       "      <td>99.000000</td>\n",
       "      <td>928120.000000</td>\n",
       "      <td>160500.000000</td>\n",
       "      <td>849680.000000</td>\n",
       "      <td>72000.000000</td>\n",
       "      <td>8.731800e+06</td>\n",
       "      <td>...</td>\n",
       "      <td>2020.000000</td>\n",
       "      <td>2019.000000</td>\n",
       "      <td>45.000000</td>\n",
       "      <td>99218.000000</td>\n",
       "      <td>525000.000000</td>\n",
       "      <td>500000.000000</td>\n",
       "      <td>282235.000000</td>\n",
       "      <td>2019.000000</td>\n",
       "      <td>2020.000000</td>\n",
       "      <td>2019.000000</td>\n",
       "    </tr>\n",
       "  </tbody>\n",
       "</table>\n",
       "<p>8 rows × 82 columns</p>\n",
       "</div>"
      ],
      "text/plain": [
       "       TOTAL_WORKER_POSITIONS  CHANGE_PREVIOUS_EMPLOYMENT  \\\n",
       "count           664614.000000               664616.000000   \n",
       "mean                 1.604953                    0.121800   \n",
       "std                  4.422125                    0.907174   \n",
       "min                  1.000000                    0.000000   \n",
       "25%                  1.000000                    0.000000   \n",
       "50%                  1.000000                    0.000000   \n",
       "75%                  1.000000                    0.000000   \n",
       "max                594.000000                  338.000000   \n",
       "\n",
       "       NEW_CONCURRENT_EMPLOYMENT  CHANGE_EMPLOYER  AMENDED_PETITION  \\\n",
       "count              664615.000000    664616.000000     664616.000000   \n",
       "mean                    0.013208         0.254923          0.223296   \n",
       "std                     0.283244         1.109193          0.896687   \n",
       "min                     0.000000         0.000000          0.000000   \n",
       "25%                     0.000000         0.000000          0.000000   \n",
       "50%                     0.000000         0.000000          0.000000   \n",
       "75%                     0.000000         0.000000          0.000000   \n",
       "max                    99.000000        99.000000         99.000000   \n",
       "\n",
       "          NAICS_CODE  WORKSITE_WORKERS_1  PREVAILING_WAGE_1  PW_OES_YEAR_1  \\\n",
       "count  664614.000000       580900.000000      631369.000000   75340.000000   \n",
       "mean   450965.588053            5.118612       84331.625656    2020.530130   \n",
       "std    190115.692575          489.230557       35950.599109     399.781123   \n",
       "min        31.000000            1.000000           7.250000       1.000000   \n",
       "25%    454111.000000            1.000000       68578.000000    2018.000000   \n",
       "50%    541511.000000            1.000000       84240.000000    2018.000000   \n",
       "75%    541512.000000            1.000000      102648.000000    2018.000000   \n",
       "max    928120.000000       160500.000000      849680.000000   72000.000000   \n",
       "\n",
       "       PW_NON-OES_YEAR_1  ...  PW_NON-OES_YEAR_9  PW_SURVEY_PUBLISHER_9  \\\n",
       "count       5.540460e+05  ...         303.000000              93.000000   \n",
       "mean        2.035588e+03  ...        2018.412541            2018.161290   \n",
       "std         1.173290e+04  ...           0.550233               0.726671   \n",
       "min         1.000000e+00  ...        2018.000000            2013.000000   \n",
       "25%         2.018000e+03  ...        2018.000000            2018.000000   \n",
       "50%         2.018000e+03  ...        2018.000000            2018.000000   \n",
       "75%         2.019000e+03  ...        2019.000000            2018.000000   \n",
       "max         8.731800e+06  ...        2020.000000            2019.000000   \n",
       "\n",
       "       WORKSITE_WORKERS_10  WORKSITE_POSTAL_CODE_10  WAGE_RATE_OF_PAY_FROM_10  \\\n",
       "count           288.000000               288.000000                288.000000   \n",
       "mean              3.378472             47751.086806             121666.356007   \n",
       "std               5.718649             29978.676785             103333.352227   \n",
       "min               1.000000              2115.000000                 11.200000   \n",
       "25%               1.000000             18510.000000              58067.190000   \n",
       "50%               1.000000             44011.000000              89718.050000   \n",
       "75%               1.000000             77786.000000             205500.000000   \n",
       "max              45.000000             99218.000000             525000.000000   \n",
       "\n",
       "       WAGE_RATE_OF_PAY_TO_10  PREVAILING_WAGE_10  PW_OES_YEAR_10  \\\n",
       "count              120.000000          288.000000       79.000000   \n",
       "mean            124975.303417        87865.179583     2018.253165   \n",
       "std             122285.307455        64047.134457        0.518092   \n",
       "min                 11.200000            9.530000     2017.000000   \n",
       "25%                 77.025000        55640.000000     2018.000000   \n",
       "50%              89416.550000        65159.000000     2018.000000   \n",
       "75%             210000.000000       120161.500000     2019.000000   \n",
       "max             500000.000000       282235.000000     2019.000000   \n",
       "\n",
       "       PW_NON-OES_YEAR_10  PW_SURVEY_PUBLISHER_10  \n",
       "count          206.000000               79.000000  \n",
       "mean          2018.407767             2018.253165  \n",
       "std              0.548824                0.518092  \n",
       "min           2018.000000             2017.000000  \n",
       "25%           2018.000000             2018.000000  \n",
       "50%           2018.000000             2018.000000  \n",
       "75%           2019.000000             2019.000000  \n",
       "max           2020.000000             2019.000000  \n",
       "\n",
       "[8 rows x 82 columns]"
      ]
     },
     "execution_count": 6,
     "metadata": {},
     "output_type": "execute_result"
    }
   ],
   "source": [
    "df.describe()"
   ]
  },
  {
   "cell_type": "code",
   "execution_count": 7,
   "id": "84cbcd01",
   "metadata": {},
   "outputs": [
    {
     "data": {
      "text/plain": [
       "array(['H-1B', 'E-3 Australian', 'H-1B1 Singapore', 'H-1B1 Chile', nan],\n",
       "      dtype=object)"
      ]
     },
     "execution_count": 7,
     "metadata": {},
     "output_type": "execute_result"
    }
   ],
   "source": [
    "df['VISA_CLASS'].unique()"
   ]
  },
  {
   "cell_type": "code",
   "execution_count": 8,
   "id": "4faddecd",
   "metadata": {},
   "outputs": [],
   "source": [
    "df.drop(df[df['VISA_CLASS']=='E-3 Australian'].index,inplace=True)\n",
    "df.drop(df[df['VISA_CLASS']=='H-1B1 Singapore'].index,inplace=True)\n",
    "df.drop(df[df['VISA_CLASS']=='H-1B1 Chile'].index,inplace=True)"
   ]
  },
  {
   "cell_type": "code",
   "execution_count": 9,
   "id": "a5451c9d",
   "metadata": {},
   "outputs": [],
   "source": [
    "df.drop(df[df['CASE_STATUS']=='WITHDRAWN'].index,inplace=True)\n",
    "df.drop(df[df['CASE_STATUS']=='CERTIFIED-WITHDRAWN'].index,inplace=True)"
   ]
  },
  {
   "cell_type": "code",
   "execution_count": 10,
   "id": "24d75784",
   "metadata": {},
   "outputs": [
    {
     "data": {
      "text/html": [
       "<div>\n",
       "<style scoped>\n",
       "    .dataframe tbody tr th:only-of-type {\n",
       "        vertical-align: middle;\n",
       "    }\n",
       "\n",
       "    .dataframe tbody tr th {\n",
       "        vertical-align: top;\n",
       "    }\n",
       "\n",
       "    .dataframe thead th {\n",
       "        text-align: right;\n",
       "    }\n",
       "</style>\n",
       "<table border=\"1\" class=\"dataframe\">\n",
       "  <thead>\n",
       "    <tr style=\"text-align: right;\">\n",
       "      <th></th>\n",
       "      <th>CASE_NUMBER</th>\n",
       "      <th>CASE_STATUS</th>\n",
       "      <th>CASE_SUBMITTED</th>\n",
       "      <th>DECISION_DATE</th>\n",
       "      <th>ORIGINAL_CERT_DATE</th>\n",
       "      <th>VISA_CLASS</th>\n",
       "      <th>JOB_TITLE</th>\n",
       "      <th>SOC_CODE</th>\n",
       "      <th>SOC_TITLE</th>\n",
       "      <th>FULL_TIME_POSITION</th>\n",
       "      <th>...</th>\n",
       "      <th>PW_OTHER_SOURCE_10</th>\n",
       "      <th>PW_NON-OES_YEAR_10</th>\n",
       "      <th>PW_SURVEY_PUBLISHER_10</th>\n",
       "      <th>PW_SURVEY_NAME_10</th>\n",
       "      <th>H-1B_DEPENDENT</th>\n",
       "      <th>WILLFUL_VIOLATOR</th>\n",
       "      <th>SUPPORT_H1B</th>\n",
       "      <th>STATUTORY_BASIS</th>\n",
       "      <th>MASTERS_EXEMPTION</th>\n",
       "      <th>PUBLIC_DISCLOSURE</th>\n",
       "    </tr>\n",
       "  </thead>\n",
       "  <tbody>\n",
       "    <tr>\n",
       "      <th>24</th>\n",
       "      <td>I-200-18162-689783</td>\n",
       "      <td>CERTIFIED</td>\n",
       "      <td>26-09-2018</td>\n",
       "      <td>02-10-2018</td>\n",
       "      <td>NaN</td>\n",
       "      <td>H-1B</td>\n",
       "      <td>ADVERSTING AND PROMOTIONS MANAGER</td>\n",
       "      <td>11-2011</td>\n",
       "      <td>ADVERTISING AND PROMOTIONS MANAGERS</td>\n",
       "      <td>N</td>\n",
       "      <td>...</td>\n",
       "      <td>NaN</td>\n",
       "      <td>NaN</td>\n",
       "      <td>NaN</td>\n",
       "      <td>NaN</td>\n",
       "      <td>N</td>\n",
       "      <td>N</td>\n",
       "      <td>NaN</td>\n",
       "      <td>NaN</td>\n",
       "      <td>NaN</td>\n",
       "      <td>NaN</td>\n",
       "    </tr>\n",
       "    <tr>\n",
       "      <th>26</th>\n",
       "      <td>I-200-18268-784387</td>\n",
       "      <td>CERTIFIED</td>\n",
       "      <td>27-09-2018</td>\n",
       "      <td>03-10-2018</td>\n",
       "      <td>NaN</td>\n",
       "      <td>H-1B</td>\n",
       "      <td>ADVERTISING AND PROMOTIONS DIRECTOR</td>\n",
       "      <td>11-2011</td>\n",
       "      <td>ADVERTISING AND PROMOTIONS MANAGERS</td>\n",
       "      <td>Y</td>\n",
       "      <td>...</td>\n",
       "      <td>NaN</td>\n",
       "      <td>NaN</td>\n",
       "      <td>NaN</td>\n",
       "      <td>NaN</td>\n",
       "      <td>N</td>\n",
       "      <td>N</td>\n",
       "      <td>NaN</td>\n",
       "      <td>NaN</td>\n",
       "      <td>NaN</td>\n",
       "      <td>NaN</td>\n",
       "    </tr>\n",
       "    <tr>\n",
       "      <th>47</th>\n",
       "      <td>I-200-18299-123963</td>\n",
       "      <td>CERTIFIED</td>\n",
       "      <td>10-26-2018 17:31:16</td>\n",
       "      <td>11-01-2018 22:00:49</td>\n",
       "      <td>NaN</td>\n",
       "      <td>H-1B</td>\n",
       "      <td>PROGRAM MANAGER I</td>\n",
       "      <td>11-2011</td>\n",
       "      <td>ADVERTISING AND PROMOTIONS MANAGERS</td>\n",
       "      <td>Y</td>\n",
       "      <td>...</td>\n",
       "      <td>NaN</td>\n",
       "      <td>NaN</td>\n",
       "      <td>NaN</td>\n",
       "      <td>NaN</td>\n",
       "      <td>N</td>\n",
       "      <td>N</td>\n",
       "      <td>NaN</td>\n",
       "      <td>NaN</td>\n",
       "      <td>NaN</td>\n",
       "      <td>PLACE OF BUSINESS</td>\n",
       "    </tr>\n",
       "    <tr>\n",
       "      <th>52</th>\n",
       "      <td>I-200-18310-551334</td>\n",
       "      <td>CERTIFIED</td>\n",
       "      <td>11-06-2018 12:37:33</td>\n",
       "      <td>11-13-2018 22:00:38</td>\n",
       "      <td>NaN</td>\n",
       "      <td>H-1B</td>\n",
       "      <td>ASSOCIATE STRATEGY DIRECTOR</td>\n",
       "      <td>11-2011</td>\n",
       "      <td>ADVERTISING AND PROMOTIONS MANAGERS</td>\n",
       "      <td>Y</td>\n",
       "      <td>...</td>\n",
       "      <td>NaN</td>\n",
       "      <td>NaN</td>\n",
       "      <td>NaN</td>\n",
       "      <td>NaN</td>\n",
       "      <td>N</td>\n",
       "      <td>N</td>\n",
       "      <td>NaN</td>\n",
       "      <td>NaN</td>\n",
       "      <td>NaN</td>\n",
       "      <td>PLACE OF BUSINESS</td>\n",
       "    </tr>\n",
       "    <tr>\n",
       "      <th>54</th>\n",
       "      <td>I-200-18317-440186</td>\n",
       "      <td>CERTIFIED</td>\n",
       "      <td>11-13-2018 20:06:33</td>\n",
       "      <td>11-19-2018 22:00:55</td>\n",
       "      <td>NaN</td>\n",
       "      <td>H-1B</td>\n",
       "      <td>ADVERTISING AND PROMOTIONS MANAGER</td>\n",
       "      <td>11-2011</td>\n",
       "      <td>ADVERTISING AND PROMOTIONS MANAGERS</td>\n",
       "      <td>Y</td>\n",
       "      <td>...</td>\n",
       "      <td>NaN</td>\n",
       "      <td>NaN</td>\n",
       "      <td>NaN</td>\n",
       "      <td>NaN</td>\n",
       "      <td>N</td>\n",
       "      <td>N</td>\n",
       "      <td>NaN</td>\n",
       "      <td>NaN</td>\n",
       "      <td>NaN</td>\n",
       "      <td>PLACE OF BUSINESS</td>\n",
       "    </tr>\n",
       "  </tbody>\n",
       "</table>\n",
       "<p>5 rows × 260 columns</p>\n",
       "</div>"
      ],
      "text/plain": [
       "           CASE_NUMBER CASE_STATUS       CASE_SUBMITTED        DECISION_DATE  \\\n",
       "24  I-200-18162-689783   CERTIFIED           26-09-2018           02-10-2018   \n",
       "26  I-200-18268-784387   CERTIFIED           27-09-2018           03-10-2018   \n",
       "47  I-200-18299-123963   CERTIFIED  10-26-2018 17:31:16  11-01-2018 22:00:49   \n",
       "52  I-200-18310-551334   CERTIFIED  11-06-2018 12:37:33  11-13-2018 22:00:38   \n",
       "54  I-200-18317-440186   CERTIFIED  11-13-2018 20:06:33  11-19-2018 22:00:55   \n",
       "\n",
       "   ORIGINAL_CERT_DATE VISA_CLASS                            JOB_TITLE  \\\n",
       "24                NaN       H-1B    ADVERSTING AND PROMOTIONS MANAGER   \n",
       "26                NaN       H-1B  ADVERTISING AND PROMOTIONS DIRECTOR   \n",
       "47                NaN       H-1B                    PROGRAM MANAGER I   \n",
       "52                NaN       H-1B          ASSOCIATE STRATEGY DIRECTOR   \n",
       "54                NaN       H-1B   ADVERTISING AND PROMOTIONS MANAGER   \n",
       "\n",
       "   SOC_CODE                            SOC_TITLE FULL_TIME_POSITION  ...  \\\n",
       "24  11-2011  ADVERTISING AND PROMOTIONS MANAGERS                  N  ...   \n",
       "26  11-2011  ADVERTISING AND PROMOTIONS MANAGERS                  Y  ...   \n",
       "47  11-2011  ADVERTISING AND PROMOTIONS MANAGERS                  Y  ...   \n",
       "52  11-2011  ADVERTISING AND PROMOTIONS MANAGERS                  Y  ...   \n",
       "54  11-2011  ADVERTISING AND PROMOTIONS MANAGERS                  Y  ...   \n",
       "\n",
       "   PW_OTHER_SOURCE_10 PW_NON-OES_YEAR_10  PW_SURVEY_PUBLISHER_10  \\\n",
       "24                NaN                NaN                     NaN   \n",
       "26                NaN                NaN                     NaN   \n",
       "47                NaN                NaN                     NaN   \n",
       "52                NaN                NaN                     NaN   \n",
       "54                NaN                NaN                     NaN   \n",
       "\n",
       "   PW_SURVEY_NAME_10 H-1B_DEPENDENT  WILLFUL_VIOLATOR  SUPPORT_H1B  \\\n",
       "24               NaN              N                 N          NaN   \n",
       "26               NaN              N                 N          NaN   \n",
       "47               NaN              N                 N          NaN   \n",
       "52               NaN              N                 N          NaN   \n",
       "54               NaN              N                 N          NaN   \n",
       "\n",
       "    STATUTORY_BASIS  MASTERS_EXEMPTION  PUBLIC_DISCLOSURE  \n",
       "24              NaN                NaN                NaN  \n",
       "26              NaN                NaN                NaN  \n",
       "47              NaN                NaN  PLACE OF BUSINESS  \n",
       "52              NaN                NaN  PLACE OF BUSINESS  \n",
       "54              NaN                NaN  PLACE OF BUSINESS  \n",
       "\n",
       "[5 rows x 260 columns]"
      ]
     },
     "execution_count": 10,
     "metadata": {},
     "output_type": "execute_result"
    }
   ],
   "source": [
    "df.head(5)"
   ]
  },
  {
   "cell_type": "code",
   "execution_count": 11,
   "id": "74dc2a4f",
   "metadata": {},
   "outputs": [
    {
     "data": {
      "text/plain": [
       "CASE_NUMBER           object\n",
       "CASE_STATUS           object\n",
       "CASE_SUBMITTED        object\n",
       "DECISION_DATE         object\n",
       "ORIGINAL_CERT_DATE    object\n",
       "                       ...  \n",
       "WILLFUL_VIOLATOR      object\n",
       "SUPPORT_H1B           object\n",
       "STATUTORY_BASIS       object\n",
       "MASTERS_EXEMPTION     object\n",
       "PUBLIC_DISCLOSURE     object\n",
       "Length: 260, dtype: object"
      ]
     },
     "execution_count": 11,
     "metadata": {},
     "output_type": "execute_result"
    }
   ],
   "source": [
    "#all the dtypes are object\n",
    "df.dtypes"
   ]
  },
  {
   "cell_type": "code",
   "execution_count": 12,
   "id": "ef2ad07a",
   "metadata": {},
   "outputs": [
    {
     "data": {
      "text/plain": [
       "WAGE_UNIT_OF_PAY_5            967737\n",
       "WAGE_UNIT_OF_PAY_4            967737\n",
       "PW_UNIT_OF_PAY_4              967737\n",
       "ORIGINAL_CERT_DATE            967737\n",
       "PW_UNIT_OF_PAY_8              967737\n",
       "                               ...  \n",
       "CHANGE_PREVIOUS_EMPLOYMENT    383931\n",
       "CHANGE_EMPLOYER               383931\n",
       "EMPLOYER_COUNTRY              383931\n",
       "EMPLOYER_PHONE                383931\n",
       "CASE_NUMBER                   383931\n",
       "Length: 260, dtype: int64"
      ]
     },
     "execution_count": 12,
     "metadata": {},
     "output_type": "execute_result"
    }
   ],
   "source": [
    "df.isnull().sum().sort_values(ascending=False)"
   ]
  },
  {
   "cell_type": "code",
   "execution_count": 13,
   "id": "51e44e3d",
   "metadata": {},
   "outputs": [
    {
     "data": {
      "text/plain": [
       "Text(0.5, 1.0, 'CASE STATUS ')"
      ]
     },
     "execution_count": 13,
     "metadata": {},
     "output_type": "execute_result"
    },
    {
     "data": {
      "image/png": "[encoded data removed]",
      "text/plain": [
       "<Figure size 720x432 with 1 Axes>"
      ]
     },
     "metadata": {},
     "output_type": "display_data"
    }
   ],
   "source": [
    "# Max number of cases are certified and a very less number is denied.\n",
    "sns.set_style('darkgrid')\n",
    "plt.figure(figsize=(10,6))\n",
    "sns.countplot(x='CASE_STATUS',data=df)\n",
    "plt.title('CASE STATUS ')\n"
   ]
  },
  {
   "cell_type": "code",
   "execution_count": 14,
   "id": "b09494a3",
   "metadata": {},
   "outputs": [
    {
     "data": {
      "text/plain": [
       "array(['N', 'Y', nan], dtype=object)"
      ]
     },
     "execution_count": 14,
     "metadata": {},
     "output_type": "execute_result"
    }
   ],
   "source": [
    "df['FULL_TIME_POSITION'].unique()"
   ]
  },
  {
   "cell_type": "code",
   "execution_count": 15,
   "id": "ad0ecfe6",
   "metadata": {},
   "outputs": [
    {
     "data": {
      "image/png": "[encoded data removed]",
      "text/plain": [
       "<Figure size 1152x720 with 1 Axes>"
      ]
     },
     "metadata": {},
     "output_type": "display_data"
    },
    {
     "data": {
      "text/plain": [
       "<AxesSubplot:xlabel='FULL_TIME_POSITION', ylabel='count'>"
      ]
     },
     "execution_count": 15,
     "metadata": {},
     "output_type": "execute_result"
    },
    {
     "data": {
      "image/png": "[encoded data removed]",
      "text/plain": [
       "<Figure size 576x396 with 1 Axes>"
      ]
     },
     "metadata": {},
     "output_type": "display_data"
    }
   ],
   "source": [
    "# Max number of people who got certified were on a full time position\n",
    "plt.figure(figsize=(16,10))\n",
    "plt.subplot(2,2,1)\n",
    "sns.set_style('darkgrid')\n",
    "Yes = df.FULL_TIME_POSITION[df.FULL_TIME_POSITION == 'Y'].count()\n",
    "No = df.FULL_TIME_POSITION[df.FULL_TIME_POSITION == 'N'].count()\n",
    "\n",
    "plt.title(\"H-1B Visa Status based on full time job\")\n",
    "plt.pie([Yes, No], labels=['Yes', 'No'], autopct=\"%.2f%%\")\n",
    "plt.legend(loc=(1,0.5))\n",
    "plt.show()\n",
    "plt.subplot(2,1,2)\n",
    "sns.countplot(x=df['FULL_TIME_POSITION'],hue=df['CASE_STATUS'])"
   ]
  },
  {
   "cell_type": "code",
   "execution_count": 16,
   "id": "eca02257",
   "metadata": {},
   "outputs": [
    {
     "data": {
      "text/plain": [
       "array(['ADVERSTING AND PROMOTIONS MANAGER',\n",
       "       'ADVERTISING AND PROMOTIONS DIRECTOR', 'PROGRAM MANAGER I', ...,\n",
       "       'CONTAINER MOBILE HARBOR CRANE OPERATOR',\n",
       "       'DIGITAL TOUCHPOINTS ANALYST', nan], dtype=object)"
      ]
     },
     "execution_count": 16,
     "metadata": {},
     "output_type": "execute_result"
    }
   ],
   "source": [
    "df['JOB_TITLE'].unique()"
   ]
  },
  {
   "cell_type": "code",
   "execution_count": 17,
   "id": "443c5e14",
   "metadata": {},
   "outputs": [],
   "source": [
    "order_by_job_title = df.groupby('JOB_TITLE').count().sort_values(by='CASE_STATUS', ascending=False).index[0:10]\n"
   ]
  },
  {
   "cell_type": "code",
   "execution_count": 18,
   "id": "32a6a8ab",
   "metadata": {},
   "outputs": [
    {
     "data": {
      "text/plain": [
       "Index(['SOFTWARE DEVELOPER', 'SOFTWARE ENGINEER',\n",
       "       'SENIOR SYSTEMS ANALYST JC60', 'MANAGER JC50',\n",
       "       'SENIOR SOFTWARE ENGINEER', 'TECHNOLOGY LEAD - US - PRACTITIONER',\n",
       "       'ASSISTANT PROFESSOR', 'PROGRAMMER ANALYST',\n",
       "       'SENIOR SOFTWARE DEVELOPER', 'JAVA DEVELOPER'],\n",
       "      dtype='object', name='JOB_TITLE')"
      ]
     },
     "execution_count": 18,
     "metadata": {},
     "output_type": "execute_result"
    }
   ],
   "source": [
    "order_by_job_title"
   ]
  },
  {
   "cell_type": "code",
   "execution_count": 19,
   "id": "7772c002",
   "metadata": {},
   "outputs": [
    {
     "data": {
      "text/plain": [
       "<AxesSubplot:xlabel='JOB_TITLE', ylabel='count'>"
      ]
     },
     "execution_count": 19,
     "metadata": {},
     "output_type": "execute_result"
    },
    {
     "data": {
      "image/png": "[encoded data removed]",
      "text/plain": [
       "<Figure size 1872x720 with 1 Axes>"
      ]
     },
     "metadata": {},
     "output_type": "display_data"
    }
   ],
   "source": [
    "# Job titles which mainly got certified are software developers and engineers\n",
    "plt.figure(figsize=(26,10))\n",
    "sns.countplot(x='JOB_TITLE', data=df, order=order_by_job_title)"
   ]
  },
  {
   "cell_type": "code",
   "execution_count": 20,
   "id": "26d7697d",
   "metadata": {},
   "outputs": [
    {
     "data": {
      "text/plain": [
       "array(['ADVERTISING AND PROMOTIONS MANAGERS', 'ACCOUNTANTS AND AUDITORS',\n",
       "       'MARKETING MANAGERS', 'MARKETING MANAGER',\n",
       "       'GENERAL & OPERATIONS MANAGER', 'SALES MANAGERS',\n",
       "       'PUBLIC RELATIONS AND FUNDRAISING MANAGERS',\n",
       "       'OPERATIONS RESEARCH ANALYSTS',\n",
       "       'SOFTWARE DEVELOPERS, APPLICATIONS',\n",
       "       'SOFTWARE DEVELOPER, APPLICATIONS',\n",
       "       'SOFTWARE DEVELOPERS, APPLICATION',\n",
       "       'SOFTWARE DEVELOPERS, SYSTEMS SOFTWARE', 'INDUSTRIAL ENGINEERS',\n",
       "       'COMMERCIAL AND INDUSTRIAL DESIGNERS', 'OCCUPATIONAL THERAPISTS',\n",
       "       'ADMINISTRATIVE SERVICES MANAGERS',\n",
       "       'ADMINISTRATIVE SERVICES MANAGER',\n",
       "       'COMPUTER AND INFORMATION SYSTEMS MANAGERS',\n",
       "       'COMPUTER AND INFORMATION SYSTEMS MANAGER',\n",
       "       'COMPUTER AND INFORMATION MANAGER SYSTEM MANAGER',\n",
       "       'COMPUTER AND INFORMATION SYTEMS MANAGER',\n",
       "       'COMPUTER INFORMATION SYSTEMS MANAGERS',\n",
       "       'COMPUTER AND INFORMATION SYSTEMS', 'FINANCIAL MANAGERS',\n",
       "       'TREASURERS AND CONTROLLERS', 'FINANCE MANAGERS',\n",
       "       'FINANCIAL MANAGERS, BRANCH OR DEPARTMENT',\n",
       "       'INDUSTRIAL PRODUCTION MANAGERS',\n",
       "       'QUALITY CONTROL SYSTEMS MANAGERS', 'PURCHASING MANAGERS',\n",
       "       'TRANSPORTATION, STORAGE, AND DISTRIBUTION MANAGERS',\n",
       "       'COMPENSATION AND BENEFITS MANAGERS',\n",
       "       'COMPENSATION AND BENEFITS MANAGER', 'HUMAN RESOURCES MANAGERS',\n",
       "       'TRAINING AND DEVELOPMENT MANAGERS',\n",
       "       'FARMERS, RANCHERS, AND OTHER AGRICULTURAL MANAGERS',\n",
       "       'CONSTRUCTION MANAGERS', 'CONSTRUCTION MANAGER',\n",
       "       'CONSTRUCTIONS MANAGERS',\n",
       "       'EDUCATION ADMINISTRATORS, PRESCHOOL AND CHILDCARE',\n",
       "       'EDUCATION ADMINISTRATORS, PRESCHOOL AND CHILDCARE CENTER/PROGRAM',\n",
       "       'EDUCATION ADMINISTRATORS, ELEMENTARY AND SECONDARY',\n",
       "       'EDUCATION ADMINISTRATORS, ELEMENTARY AND SECONDARY SCHOOL',\n",
       "       'EDUCATION ADMINISTRATORS, POSTSECONDARY',\n",
       "       'CHIEF EXECUTIVE OFFICER', 'EDUCATION ADMINISTRATORS, ALL OTHER',\n",
       "       'ARCHITECTURAL AND ENGINEERING MANAGERS', 'ENGINEERING MANAGERS',\n",
       "       'FOOD SERVICE MANAGERS', 'LODGING MANAGERS',\n",
       "       'MEDICAL AND HEALTH SERVICES MANAGERS',\n",
       "       'NATURAL SCIENCES MANAGERS', 'CLINICAL RESEARCH COORDINATORS',\n",
       "       'PROPERTY, REAL ESTATE, AND COMMUNITY ASSOCIATION M',\n",
       "       'PROPERTY, REAL ESTATE, AND COMMUNITY ASSOCIATION',\n",
       "       'PROPERTY, REAL ESTATE, AND COMMUNITY ASSOCIATION MANAGERS',\n",
       "       'SOCIAL AND COMMUNITY SERVICE MANAGERS',\n",
       "       'EMERGENCY MANAGEMENT DIRECTORS', 'MANAGERS, ALL OTHER',\n",
       "       'REGULATORY AFFAIRS MANAGERS', 'INVESTMENT FUND MANAGERS',\n",
       "       'SUPPLY CHAIN MANAGERS', 'CHIEF EXECUTIVES',\n",
       "       'GENERAL AND OPERATIONS MANAGERS',\n",
       "       'GENERAL AND OPERATIONS MANAGER', 'PRODUCTION COORDINATOR',\n",
       "       'LOGISTICS MANAGERS', 'COMPLIANCE MANAGERS', 'SECURITY MANAGERS',\n",
       "       'AGENTS AND BUSINESS MANAGERS OF ARTISTS,',\n",
       "       'AGENTS AND BUSINESS MANAGERS OF ARTISTS, PERFORMERS, AND ATHLETES',\n",
       "       'BUYERS AND PURCHASING AGENTS, FARM PRODUCTS',\n",
       "       'WHOLESALE AND RETAIL BUYERS, EXCEPT FARM PRODUCTS',\n",
       "       'PURCHASING AGENTS, EXCEPT WHOLESALE, RETAIL, AND',\n",
       "       'PURCHASING AGENTS, EXCEPT WHOLESALE, RETAIL, AND FARM PRODUCTS',\n",
       "       'PURCHASING AGENTS, EXCEPT WHOLESALE, RETAIL, AND F',\n",
       "       'PURCHASING AGENTS, EXCEPT WHOLESALE, RETAIL & FARM',\n",
       "       'PURCHASING AGNT,EXCEPT WHOLESALE,RETAIL&FARM PRODT',\n",
       "       'CLAIMS ADJUSTERS, EXAMINERS, AND INVESTIGATORS',\n",
       "       'COMPLIANCE OFFICERS', 'REGULATORY AFFAIRS SPECALISTS',\n",
       "       'REGULATORY AFFAIRS SPECIALISTS', 'REGULATORY AFFAIRS SPECIALIST',\n",
       "       'COST ESTIMATORS', 'COST ESTIMATOR', 'HUMAN RESOURCES SPECIALISTS',\n",
       "       'HUMAN RESOURCES SPECIALIST', 'HUMAN RESOURCE SPECIALIST',\n",
       "       'HUMAN RESOURCE SPECIALISTS', 'LABOR RELATIONS SPECIALISTS',\n",
       "       'LOGISTICIANS', 'LOGISTICS ANALYSTS', 'LOGISTICS ANALYST',\n",
       "       'LOGISTICS ENGINEERS', 'LOGISTICIAN', 'MANAGEMENT ANALYSTS',\n",
       "       'MANAGEMENT ANALYST', 'MANAGEMENT ANALYTST', 'MANAGEMANT ANALYSTS',\n",
       "       'MANAGEMENT ANALYSIS', 'MEETING, CONVENTION, AND EVENT PLANNERS',\n",
       "       'FUNDRAISERS',\n",
       "       'COMPENSATION, BENEFITS, AND JOB ANALYSIS SPECIALISTS',\n",
       "       'COMPENSATION, BENEFITS, AND JOB ANALYSIS',\n",
       "       'TRAINING AND DEVELOPMENT SPECIALISTS',\n",
       "       'MARKET RESEARCH ANALYSTS AND MARKETING SPECIALISTS',\n",
       "       'MARKET RESEARCH ANALYSTS AND MARKETING',\n",
       "       'MARKET RESEARCH ANALYST AND MARKETING SPECIALIST',\n",
       "       'MARKET RESEARCH ANALYST AND MARKETING SPECIALISTS',\n",
       "       'MARKET RESEARCH ANALYST',\n",
       "       'MARKET RESEARCH ANALYSTS & MARKETING SPECIALISTS',\n",
       "       'MARKET RESEARCH ANALYSTS',\n",
       "       'MARKET RESEARCH ANALYSTS AND MARKETING SPECIALIST',\n",
       "       'MARKETING RESEARCH ANALYSTS AND MARKETING SPECIALI',\n",
       "       'MARKET RESEARCH ANALYSTS AND MARKETING SCPECIALIST',\n",
       "       'BUSINESS OPERATIONS SPECIALISTS, ALL OTHER',\n",
       "       'SUSTAINABILITY SPECIALISTS', 'ACCOUNTANTS', 'ACCOUNTANT',\n",
       "       'ACCOUNTANTS AND AUDOTORS', 'ACCOUNTS AND AUDITORS', 'AUDITORS',\n",
       "       'APPRAISERS AND ASSESSORS OF REAL ESTATE', 'BUDGET ANALYSTS',\n",
       "       'CREDIT ANALYSTS', 'FINANCIAL ANALYSTS', 'FINANCIAL ANALYST',\n",
       "       'RISK MANAGEMENT SPECIALISTS', 'PERSONAL FINANCIAL ADVISORS',\n",
       "       'INSURANCE UNDERWRITERS', 'FINANCIAL EXAMINERS',\n",
       "       'CREDIT COUNSELORS', 'LOAN OFFICERS',\n",
       "       'TAX EXAMINERS AND COLLECTORS, AND REVENUE AGENTS',\n",
       "       'TAX PREPARERS', 'FINANCIAL SPECIALISTS, ALL OTHER',\n",
       "       'FINANCIAL QUANTITATIVE ANALYSTS',\n",
       "       'FINANCIAL QUANTITATIVE ANALYST', 'RISK MANAGEMENT SPECIALIST',\n",
       "       'COMPUTER PROGRAMMERS', 'COMPUTER PROGRAMMERS, NON R&D',\n",
       "       'COMPUTER PROGRAMMERS, R&D',\n",
       "       'SOFTWARE DEVELOPERS, APPLICATIONS, NON R&D',\n",
       "       'SOFTWARE DEVELOPERS, APPLICATIONS, NON R & D',\n",
       "       'SOFTWARE DEVELOPERS, APPLICATIONS, NONR&D',\n",
       "       'SOFTWARE DEVELOPERS, APPLICATIONS, R&D',\n",
       "       'SOFTWARE DEVELOPERS, SYSTEMS SOFTWARE, NON R&D',\n",
       "       'SOFTWARE DEVELOPERS, SYSTEMS SOFTWARE, R&D',\n",
       "       'COMPUTER SYSTEMS ANALYSTS', 'COMPUTER SYSTEMS ANALYSTS, NON R&D',\n",
       "       'COMPUTER SYSTEMS ANALYSTS, NON R&D COMPUTER SYSTEM',\n",
       "       'COMPUTER SYSTEMS ANALYSTS, R&D',\n",
       "       'COMPUTER NETWORK ARCHITECTS, NON R&D',\n",
       "       'COMPUTER NETWORK ARCHITECTS, R&D',\n",
       "       'COMPUTER OCCUPATIONS, ALL OTHER',\n",
       "       'SOFTWARE QUALITY ASSURANCE ENGINEERS AND TESTERS',\n",
       "       'COMPUTER AND INFORMATION RESEARCH SCIENTISTS',\n",
       "       'RESEARCH ENGINEER', 'COMPUTER AND INFORMATION RESEARCH SCIENTIST',\n",
       "       'COMPUTER & INFORMATION RESEARCH SCIENTISTS',\n",
       "       'COMPUTER AND INFORMATION RESEARCH SCIENCES',\n",
       "       'MPUTER AND INFORMATION RESEARCH SCIENTISTS',\n",
       "       'COMPUTER SYSTEMS ANALYST', 'COMPUTER SYSTEM ANALYST', '15-1121',\n",
       "       'INFORMATION SECURITY ANALYSTS', 'INFORMATION SECURITY ANALYST',\n",
       "       'COMPUTER PROGRAMMER', 'COMPTUER PROGRAMMERS',\n",
       "       'SOFTWARE DEVELOPERS,APPLICATIONS',\n",
       "       'SOFTWARE DEVELOPERS. APPLICATIONS',\n",
       "       'SOFTWARE DEVELOPRS, APPLICATIONS',\n",
       "       'SOFTWARE DEVELOPERS, APPLICAITONS',\n",
       "       'SOFTWARE SEVELOPERS, APPLICATIONS',\n",
       "       'SOFTWARE DEVLOPERS, APPLICATIONS',\n",
       "       'SOFTWARE DEVELOPERS, APPPLICATIONS',\n",
       "       'SOFTWARE DEVELOPERS, APPLICANTIONS',\n",
       "       'SOFTWARE DEVVELOPERS, APPLICATIONS',\n",
       "       'SOFTWARE DEVELOPER - APPLICATIONS',\n",
       "       'SOFTWARE DEVELOPER APPLICATIONS',\n",
       "       'SOFTWARE DEVLOPER, APPLICATIONS',\n",
       "       'SOTWARE DEVELOPERS, APPLICATIONS',\n",
       "       'SOFTWARE DEVELPER, APPLICATIONS',\n",
       "       'TESTING ENGINEERING SPECIALIST',\n",
       "       'SOFTWARE DEVELOPERS, APPLICTAIONS',\n",
       "       'SOFTWARE DEVELOPERS, APPLICATINS', 'SOFTWARE DEVELOPER',\n",
       "       'SOFTWARE DEVELOPERS - APPLICATIONS',\n",
       "       'SOFTWARE DEVELOPER APPLICATION',\n",
       "       'SOFTARE DEVELOPERS, APPLICATIONS',\n",
       "       'SOFTWARE APPLICATIONS, DEVELOPERS', 'SOFTWARE DEVELOPERS',\n",
       "       'SOFWARE DEVELOPER, APPLICATIONS',\n",
       "       'FTWARE DEVELOPERS, APPLICATIONS',\n",
       "       'SOFTWARE DEVELOPERS, APPLICTIONS',\n",
       "       'SOFWRE DEVELOPERS, APPLICATIONS',\n",
       "       'SOFWARE DEVELOPERS, APPLICATIONS', 'SENIOR VALIDATION ENGINEER',\n",
       "       'SOFTWARE DEVELOPERS,SYSTEMS SOFTWARE',\n",
       "       'SOFTWARE DEVELOPERS,  SYSTEMS SOFTWARE',\n",
       "       'SOFTWARE DEVELOPERS, SYSTEM SOFTWARE',\n",
       "       'SOFTWARE DEVELOPERS, SYSTEMS',\n",
       "       'SOFTWARE DEVELOPERS, SYSTEMS SOTWARE',\n",
       "       'SOFTWARE DEVELOPER, SYSTEMS SOFTWARE',\n",
       "       'BIOLOGICAL SCIENTISTS, ALL OTHER',\n",
       "       'SOFTWARE DEVELOPERS , SYSTEMS SOFTWARE',\n",
       "       'SOFTWARE QUALITY ASSURANCE',\n",
       "       'SOFTWARE DEVLEOPERS, SYSTEMS SOFTWARE', 'WEB DEVELOPERS',\n",
       "       'DATABASE ADMINISTRATORS', 'DATABASE ADMINISTRATOR',\n",
       "       'DATABASE ARCHITECT', 'DATABASE ADMINITRATORS',\n",
       "       'NETWORK AND COMPUTER SYSTEMS ADMINISTRATORS',\n",
       "       'NETWORK AND COMPUTER SYSTEMS ADMINISTRATOR',\n",
       "       'NETWORK AND COMPUTER SYSTEMS ADMNISTRATORS',\n",
       "       'NETWORK AND COMPUTER SYTEMS ADMINISTRATORS',\n",
       "       'COMPUTER NETWORK ARCHITECTS', 'COMPUTER NETWORKS ARCHITECTS',\n",
       "       'COMPUTER SUPPORT SPECIALIST', 'COMPUTER USER SUPPORT SPECIALISTS',\n",
       "       'COMPUTER NETWORK SUPPORT SPECIALISTS',\n",
       "       'COMPUTER NETWORK SUPPORT SPECIALIST',\n",
       "       'COMPUTER APPLICATIONS, ALL OTHER',\n",
       "       'COMPUTER SYSTEMS ENGINEERS/ARCHITECTS',\n",
       "       'INFORMATION TECHNOLOGY PROJECT MANAGERS', 'DATABASE ARCHITECTS',\n",
       "       'COMPUTER OCCUPATION, ALL OTHERS',\n",
       "       'BUSINESS INTELLIGENCE ANALYSTS',\n",
       "       'DOCUMENT MANAGEMENT SPECIALISTS', 'DATA WAREHOUSING SPECIALISTS',\n",
       "       'BUSINESS INTELLIGENCE ANALYST', 'COMPUTER OCCUPATIONS,ALL OTHER',\n",
       "       'SOFTWARE QUALITY ASSURANCE ENGINEERS',\n",
       "       'INFORMATION TECHNOLOGY MANAGERS',\n",
       "       'GEOSPATIAL INFORMATION SCIENTISTS AND TECHNOLOGIST',\n",
       "       'COMPUTER SYSTEMS ENGINEERS/ ARCHITECTS',\n",
       "       'SOFTWARE QUALITY ENGINEERS AND TESTERS',\n",
       "       'COMPUTER OCCUPATIONS,  ALL OTHER', 'SOFTWARE QA ENG + TEST',\n",
       "       'COMPUTER SYSTEM ENG / ARCHITECT',\n",
       "       'COMPUTER OCCUPATIONS,ALL OTHERS',\n",
       "       'COMPUTER OCCUPATIONS, ALL OTHERS', 'IT PROJECT MANAGERS',\n",
       "       'SEARCH MARKETING STRATEGISTS',\n",
       "       'INFORMATION TECHNOLOGY PROJECT MANAGER',\n",
       "       'INFORMATION TECHNOLOGY PRODUCT MANAGERS',\n",
       "       'QUALITY ASSURANCE ENGINEERS AND TESTERS',\n",
       "       'COMPUTER OCCUPATIONS - ALL OTHER',\n",
       "       'INFORMATION TECHOLOGY PROJECT MANAGERS', 'VIDEO GAME DESIGNERS',\n",
       "       'SEARCH MARKETING STRATEGIST', 'CUMPUTER OCCUPATIONS, ALL OTHER',\n",
       "       'COMPUTER OCCPATIONS, ALL OTHER', 'SENIOR SOFTWARE ENGINEER',\n",
       "       'COMPUTER OCCUPATONS, ALL OTHER', 'COMPUTER OCUPATIONS, ALL OTHER',\n",
       "       'COMPUTER OCCUPATIONS. ALL OTHER',\n",
       "       'COMPUTER OCCUPATION, ALL OTHER',\n",
       "       'COMPUTER OCCCUPATIONS, ALL OTHER',\n",
       "       'COMPUTER SYSTEMS ENGINEERS/ARCHITECT',\n",
       "       'GEOSPATIAL INFO. SCIENTISTS AND TECHNOLOGISTS',\n",
       "       'SQA ENGINEERS AND TESTERS',\n",
       "       'COMPUTERS SYSTEMS ENGINEERS/ARCHITECTS',\n",
       "       'COMPUTER SYSTEMS ENGINEERS', 'ACTUARIES', 'MATHEMATICIANS',\n",
       "       'MATHEMATICIAN', 'OPERATION RESEARCH ANALYSTS',\n",
       "       'OPERATIONS RESEARCH ANALYST', 'STATISTICIANS', 'BIOSTATISTICIANS',\n",
       "       'STATISTICIAN', 'CLINICAL DATA MANAGERS', 'STATISTIANS',\n",
       "       'BIOSTATISTICIAN', 'STASTICIANS', 'BIOSTATISTIANS',\n",
       "       'MATHEMATICAL TECHNICIANS',\n",
       "       'MATHEMATICAL SCIENCE OCCUPATIONS, ALL OTHER',\n",
       "       'ARCHITECTS, EXCEPT LANDSCAPE AND NAVAL', 'LANDSCAPE ARCHITECTS',\n",
       "       'CARTOGRAPHERS AND PHOTOGRAMMETRISTS', 'SURVEYORS',\n",
       "       'AEROSPACE ENGINEERS', 'AGRICULTURAL ENGINEERS',\n",
       "       'BIOMEDICAL ENGINEERS', 'BIOMEDICAL ENGINEER',\n",
       "       'CHEMICAL ENGINEERS', 'CIVIL ENGINEERS', 'CIVIL ENGINEER',\n",
       "       'TRANSPORTATION ENGINEERS', 'CIVIL ENGINEERS, NON-R&D',\n",
       "       'CIVIL ENGINEERS, R&D', 'COMPUTER HARDWARE ENGINEERS',\n",
       "       'VLSI DESIGN VERIFICATION ENGINEER', 'COMPUTER HARDWARE ENGINEER',\n",
       "       'COMPUTER HARDWARE ENGINEERS, NON-R&D',\n",
       "       'COMPUTER HARDWARE ENGINEERS, R & D',\n",
       "       'COMPUTER HARDWARE ENGINEERS, R&D', 'ELECTRICAL ENGINEERS',\n",
       "       'ELECTRICAL  ENGINEERS', 'ELECTRICAL ENGINEER',\n",
       "       'ELECTRICAL ENGINEERING', 'ELECTRONICS ENGINEERS, EXCEPT COMPUTER',\n",
       "       'ELECTONICS ENGINEERS, EXCEPT COMPUTER',\n",
       "       'ELECTRONICS ENGINEER, EXCEPT COMPUTER', '17-2072',\n",
       "       'ELECTRICAL ENGINEERS, NON R&D', 'ELECTRICAL ENGINEERS, NON-R&D',\n",
       "       'ELECTRICAL ENGINEERS, R&D',\n",
       "       'ELECTRONICS ENGINEERS, EXCEPT COMPUTER,',\n",
       "       'ELECTRONICS ENGINEERS, EXCEPT COMPUTER, NON-R&D',\n",
       "       'ELECTRONICS ENGINEERS, EXCEPT COMPUTER, R&D',\n",
       "       'ENVIRONMENTAL ENGINEERS', 'WATER/WASTEWATER ENGINEERS',\n",
       "       'WATER / WASTEWATER ENGINEERS', 'WATER / WASTEWATER ENGINEER',\n",
       "       'ENVIROMENTAL ENGINEERS',\n",
       "       'HEALTH AND SAFETY ENGINEERS, EXCEPT MINING SAFETY',\n",
       "       'HEALTH AND SAFETY ENGINEERS, EXCEPT MINING SAFETY ENGINEERS AND INSPECTORS',\n",
       "       'HEALTH AND SAFETY ENGS., EXCEPT MINING SAFETY ENGS',\n",
       "       'HUMAN FACTORS ENGINEERS AND ERGONOMISTS', 'INDUSTRIAL ENGINEER',\n",
       "       'MARINE ENGINEERS AND NAVAL ARCHITECTS', 'MATERIALS ENGINEERS',\n",
       "       'MATERIALS ENGINEER', 'MECHANICAL ENGINEER',\n",
       "       'MECHANICAL ENGINEERS', 'MECHANCIAL ENGINEER',\n",
       "       'MECHANICAL ENGINEEERS', 'QUALITY ENGINEER',\n",
       "       'AUTOMOTIVE ENGINEERS', 'SENIOR MECHANICAL ENGINEER',\n",
       "       'MECHANICAL ENGINEERS, NON-R&D', 'MECHANICAL ENGINEERS, R&D',\n",
       "       'MINING AND GEOLOGICAL ENGINEERS, INCLUDING MINING',\n",
       "       'MINING AND GEOLOGICAL ENGINEERS, INCLUDING MINING SAFETY ENGINEERS',\n",
       "       'MINING AND GEOLOGICAL ENGINEERS',\n",
       "       'MINING AND GEOLOGICAL ENG INCL MINING SAFETY ENG',\n",
       "       'NUCLEAR ENGINEERS', 'PETROLEUM ENGINEERS', 'VALIDATION ENGINEER',\n",
       "       'ENGINEERS, ALL OTHER', 'MECHATRONICS ENGINEERS',\n",
       "       'MICROSYSTEMS ENGINEERS', 'VALIDATION ENGINEERS',\n",
       "       'ROBOTICS ENGINEERS', 'MANUFACTURING ENGINEERS',\n",
       "       'ENGINEERS, ALL OTHERS', 'ENERGY ENGINEERS', 'PHOTONICS ENGINEERS',\n",
       "       'ROBOTICS ENGINEER', 'NANOSYSTEMS ENGINEERS',\n",
       "       'MANUFACTURING ENGINEER', 'BIOCHEMICAL ENGINEERS',\n",
       "       'GINEERS, ALL OTHER', 'ARCHITECTURAL AND CIVIL DRAFTERS',\n",
       "       'ARCHITECTURAL & CIVIL DRAFTERS', 'ARCHITECTURAL DRAFTERS',\n",
       "       'ELECTRICAL AND ELECTRONICS DRAFTERS', 'MECHANICAL DRAFTERS',\n",
       "       'DRAFTERS, ALL OTHER',\n",
       "       'AEROSPACE ENGINEERING AND OPERATIONS TECHNICIANS',\n",
       "       'CIVIL ENGINEERING TECHNICIANS',\n",
       "       'ELECTRICAL AND ELECTRONIC ENGINEERING TECHNICIANS',\n",
       "       'ENVIRONMENTAL ENGINEERING TECHNICIANS',\n",
       "       'INDUSTRIAL ENGINEERING TECHNICIANS',\n",
       "       'MECHANICAL ENGINEERING TECHNICIANS',\n",
       "       'ENGINEERING TECHNICIANS, EXCEPT DRAFTERS, ALL',\n",
       "       'ELECTROMECHANICAL ENGINEERING TECHNOLOGISTS',\n",
       "       'ENGINEERING TECHNICIANS, EXCEPT DRAFTERS, ALL OTHER',\n",
       "       'ENGINEERING TECHNICIANS, EXCEPT DRAFTERS, ALL OTHE',\n",
       "       'ENGINEERING TECHNICIANS, EXCEPT DRAFTERS',\n",
       "       'ENGINEERING TECH, EXCEPT DRAFTERS, ALL OTHER',\n",
       "       'ELECTRICAL ENGINEERING TECHNOLOGISTS',\n",
       "       'SURVEYING AND MAPPING TECHNICIANS', 'ANIMAL SCIENTISTS',\n",
       "       'FOOD SCIENTISTS AND TECHNOLOGISTS', 'SOIL AND PLANT SCIENTISTS',\n",
       "       'SOIL AND PLANT SCIENTIST', 'BIOCHEMISTS AND BIOPHYSICISTS',\n",
       "       'BIOCHEMISTS & BIOPHYSICISTS', 'MICROBIOLOGISTS', 'MICROBIOLOGIST',\n",
       "       'ZOOLOGISTS AND WILDLIFE BIOLOGISTS', 'BIOINFORMATICS SCIENTISTS',\n",
       "       'MOLECULAR & CELLULAR BIOLOGISTS',\n",
       "       'MOLECULAR AND CELLULAR BIOLOGISTS',\n",
       "       'BIOLOGICAL SCIENTIST, ALL OTHER', 'BIOINFORMATICS SCIENTIST',\n",
       "       'BIOLOGICAL SCIENTISTS', 'SOLUTION CONSULTANT',\n",
       "       'BIOLOGICAL SCIENCES, ALL OTHER', 'BIOININFORMATICS SCIENTISTS',\n",
       "       'BIOLOGICAL SCIENTISTS, ALL OTHERS', 'CONSERVATION SCIENTISTS',\n",
       "       'FORESTERS', 'EPIDEMIOLOGISTS',\n",
       "       'MEDICAL SCIENTISTS, EXCEPT EPIDEMIOLOGISTS',\n",
       "       'MEDICAL SCIENTISTS, EXCEPT EPIDEMIOLOGIST',\n",
       "       'LIFE SCIENTISTS, ALL OTHER', 'ASTRONOMERS', 'PHYSICISTS',\n",
       "       'PHYSICIST', 'ATMOSPHERIC AND SPACE SCIENTISTS', 'CHEMISTS',\n",
       "       'CHEMIST', 'MATERIALS SCIENTISTS', 'MTERIALS SCIENTISTS',\n",
       "       'MATERIALS SCIENTIST', 'MATERIAL SCIENTISTS',\n",
       "       'ENVIRONMENTAL SCIENTISTS AND SPECIALISTS,',\n",
       "       'ENVIRONMENTAL SCIENTISTS AND SPECIALISTS, INCLUDING HEALTH',\n",
       "       'ENVIRONMENTAL SCIENTISTS AND SPECIALISTS, INCLUDIN',\n",
       "       'ENVIRONMENTAL SCIENTISTS AND SPECIALISTS',\n",
       "       'GEOSCIENTISTS, EXCEPT HYDROLOGISTS AND GEOGRAPHERS',\n",
       "       'HYDROLOGISTS', 'PHYSICAL SCIENTISTS, ALL OTHER',\n",
       "       'REMOTE SENSING SCIENTISTS AND TECHNOLOGISTS', 'ECONOMISTS',\n",
       "       'ECONOMIST', 'ENVIRONMENTAL ECONOMISTS', 'SURVEY RESEARCHERS',\n",
       "       'CLINICAL, COUNSELING, AND SCHOOL PSYCHOLOGISTS',\n",
       "       'INDUSTRIAL-ORGANIZATIONAL PSYCHOLOGISTS',\n",
       "       'PSYCHOLOGISTS, ALL OTHER',\n",
       "       'NEUROPSYCHOLOGISTS AND CLINICAL NEUROPSYCHOLOGISTS',\n",
       "       'SOCIOLOGISTS', 'URBAN AND REGIONAL PLANNERS',\n",
       "       'ANTHROPOLOGISTS AND ARCHEOLOGISTS', 'GEOGRAPHERS', 'HISTORIANS',\n",
       "       'POLITICAL SCIENTISTS',\n",
       "       'SOCIAL SCIENTISTS AND RELATED WORKERS, ALL OTHER',\n",
       "       'TRANSPORTATION PLANNERS',\n",
       "       'SOCIAL SCIENTISTS AND RELATED WORKERS, ALL OTHERS',\n",
       "       'AGRICULTURAL AND FOOD SCIENCE TECHNICIANS',\n",
       "       'BIOLOGICAL TECHNICIANS', 'CHEMICAL TECHNICIANS',\n",
       "       'GEOLOGICAL AND PETROLEUM TECHNICIANS', 'NUCLEAR TECHNICIANS',\n",
       "       'SOCIAL SCIENCE RESEARCH ASSISTANTS',\n",
       "       'ENVIRONMENTAL SCIENCE AND PROTECTION TECHNICIANS,',\n",
       "       'ENVIRONMENTAL SCIENCE AND PROTECTION TECHNICIANS, INCLUDING HEALTH',\n",
       "       'ENVIRONMENTAL SCIENCE AND PROTECTION TECHNICIAN',\n",
       "       'FORENSIC SCIENCE TECHNICIANS',\n",
       "       'LIFE, PHYSICAL, AND SOCIAL SCIENCE TECHNICIANS,',\n",
       "       'LIFE, PHYSICAL, AND SOCIAL SCIENCE TECHNICIANS, ALL OTHER',\n",
       "       'SUBSTANCE ABUSE AND BEHAVIORAL DISORDER COUNSELORS',\n",
       "       'EDUCATIONAL, GUIDANCE, SCHOOL, AND VOCATIONAL',\n",
       "       'EDUCATIONAL, GUIDANCE, SCHOOL, AND VOCATIONAL COUNSELORS',\n",
       "       'EDUCATIONAL, GUIDANCE, SCHOOL, AND VOCATIONAL CO',\n",
       "       'EDUCATIONAL, GUIDANCE, SCHOOL, AND VOCATIONAL COUN',\n",
       "       'MARRIAGE AND FAMILY THERAPISTS', 'MENTAL HEALTH COUNSELORS',\n",
       "       'REHABILITATION COUNSELORS', 'COUNSELORS, ALL OTHER',\n",
       "       'CHILD, FAMILY, AND SCHOOL SOCIAL WORKERS',\n",
       "       'HEALTHCARE SOCIAL WORKERS',\n",
       "       'MENTAL HEALTH AND SUBSTANCE ABUSE SOCIAL WORKERS',\n",
       "       'SOCIAL WORKERS, ALL OTHER', 'HEALTH EDUCATORS',\n",
       "       'SOCIAL AND HUMAN SERVICE ASSISTANTS', 'COMMUNITY HEALTH WORKERS',\n",
       "       'COMMUNITY AND SOCIAL SERVICE SPECIALISTS, ALL',\n",
       "       'COMMUNITY AND SOCIAL SERVICE SPECIALISTS, ALL OTHER', 'CLERGY',\n",
       "       'DIRECTORS, RELIGIOUS ACTIVITIES AND EDUCATION',\n",
       "       'RELIGIOUS WORKERS, ALL OTHER', 'LAWYERS', 'JUDICIAL LAW CLERKS',\n",
       "       'ARBITRATORS, MEDIATORS, AND CONCILIATORS',\n",
       "       'PARALEGALS AND LEGAL ASSISTANTS',\n",
       "       'LEGAL SUPPORT WORKERS, ALL OTHER', 'LEGAL SUPPORT WORKERS',\n",
       "       'BUSINESS TEACHERS, POSTSECONDARY',\n",
       "       'BUSINESS TEACHERS, POST SECONDARY',\n",
       "       'BUSINESS, TEACHERS, POSTSECONDARY', 'BUSINESS TEACHERS',\n",
       "       'COMPUTER SCIENCE TEACHERS, POSTSECONDARY', 'ASSISTANT PROFESSOR',\n",
       "       'COMPUTER SCIENCE TEACHER POSTSECONDARY',\n",
       "       'MATHEMATICAL SCIENCE TEACHERS, POSTSECONDARY',\n",
       "       'MATHEMATICAL SCIENCE TEACHERS, SECONDARY',\n",
       "       'ARCHITECTURE TEACHERS, POSTSECONDARY',\n",
       "       'ENGINEERING TEACHERS, POSTSECONDARY',\n",
       "       'AGRICULTURAL SCIENCES TEACHERS, POSTSECONDARY',\n",
       "       'AGRICULTURAL SCIENCE TEACHERS, POSTSECONDARY',\n",
       "       'BIOLOGICAL SCIENCE TEACHERS, POSTSECONDARY',\n",
       "       'FORESTRY AND CONSERVATION SCIENCE TEACHERS, POSTSECONDARY',\n",
       "       'ATMOSPHERIC, EARTH, MARINE, AND SPACE SCIENCES',\n",
       "       'ATMOSPHERIC, EARTH, MARINE, AND SPACE SCIENCES TEACHERS, POSTSECONDARY',\n",
       "       'ATMOSPHERIC, EARTH, MARINE, AND SPACE SCIENCES TEA',\n",
       "       'CHEMISTRY TEACHERS, POSTSECONDARY',\n",
       "       'CHEMISTRY TEACHERS, POST SECONDARY',\n",
       "       'ENVIRONMENTAL SCIENCE TEACHERS, POSTSECONDARY',\n",
       "       'PHYSICS TEACHERS, POSTSECONDARY',\n",
       "       'ANTHROPOLOGY AND ARCHEOLOGY TEACHERS,',\n",
       "       'ANTHROPOLOGY AND ARCHEOLOGY TEACHERS, POSTSECONDARY',\n",
       "       'AREA, ETHNIC, AND CULTURAL STUDIES TEACHERS,',\n",
       "       'AREA, ETHNIC, AND CULTURAL STUDIES TEACHERS, POSTS',\n",
       "       'AREA, ETHNIC, AND CULTURAL STUDIES TEACHERS, POSTSECONDARY',\n",
       "       'AREA, ETHNIC, AND CULTURAL STUDIES TEACHERS',\n",
       "       'ECONOMICS TEACHERS, POSTSECONDARY',\n",
       "       'ECONOMIC TEACHERS, POSTSECONDARY',\n",
       "       'GEOGRAPHY TEACHERS, POSTSECONDARY',\n",
       "       'POLITICAL SCIENCE TEACHERS, POSTSECONDARY',\n",
       "       'PSYCHOLOGY TEACHERS, POSTSECONDARY',\n",
       "       'SOCIOLOGY TEACHERS, POSTSECONDARY',\n",
       "       'SOCIAL SCIENCES TEACHERS, POSTSECONDARY, ALL OTHER',\n",
       "       'SOCIAL SCIENCE TEACHERS, POSTSECONDARY, ALL OTHER',\n",
       "       'SOCIAL SCIENCES TEACHERS, POSTSECONDARY',\n",
       "       'HEALTH SPECIALTIES TEACHERS, POSTSECONDARY',\n",
       "       'HEALTH SPECIALTIES TEACHER, POSTSECONDARY',\n",
       "       'NURSING INSTRUCTORS AND TEACHERS, POSTSECONDARY',\n",
       "       'EDUCATION TEACHERS, POSTSECONDARY',\n",
       "       'LIBRARY SCIENCE TEACHERS, POSTSECONDARY',\n",
       "       'CRIMINAL JUSTICE AND LAW ENFORCEMENT TEACHERS,',\n",
       "       'CRIMINAL JUSTICE AND LAW ENFORCEMENT TEACHERS, POSTSECONDARY',\n",
       "       'LAW TEACHERS, POSTSECONDARY',\n",
       "       'SOCIAL WORK TEACHERS, POSTSECONDARY',\n",
       "       'ART, DRAMA, AND MUSIC TEACHERS, POSTSECONDARY',\n",
       "       'ART, DRAMA, MUSIC TEACHERS, POSTSECONDARY',\n",
       "       'COMMUNICATIONS TEACHERS, POSTSECONDARY',\n",
       "       'ENGLISH LANGUAGE AND LITERATURE TEACHERS,',\n",
       "       'ENGLISH LANGUAGE AND LITERATURE TEACHERS, POSTSECONDARY',\n",
       "       'ENGLISH LANGUAGE AND LITERATURE TEACHERS, POSTSECO',\n",
       "       'ENGLISH LANGUAGE & LITERATURE TEACHERS, POSTSECOND',\n",
       "       'FOREIGN LANGUAGE AND LITERATURE TEACHERS, POSTSECONDARY',\n",
       "       'FOREIGN LANGUAGE AND LITERATURE TEACHERS,',\n",
       "       'FOREIGN LANGUAGE & LITERATURE TEACHERS, POSTSECOND',\n",
       "       'FOREIGN LANGUAGE AND LITERATURE TEACHERS, POSTSECO',\n",
       "       'FOREIGN LANGUAGE & LIT. TEACHERS, POSTSECONDARY',\n",
       "       'HISTORY TEACHERS, POSTSECONDARY',\n",
       "       'HISTORY TEACHER, POSTSECONDARY',\n",
       "       'PHILOSOPHY AND RELIGION TEACHERS, POSTSECONDARY',\n",
       "       'GRADUATE TEACHING ASSISTANTS',\n",
       "       'HOME ECONOMICS TEACHERS, POSTSECONDARY',\n",
       "       'RECREATION AND FITNESS STUDIES TEACHERS,',\n",
       "       'RECREATION AND FITNESS STUDIES TEACHERS, POSTSECON',\n",
       "       'RECREATION AND FITNESS STUDIES TEACHERS, POSTSECONDARY',\n",
       "       'RECREATION AND FITNESS STUDIES TEACHER, POSTSECOND',\n",
       "       'VOCATIONAL EDUCATION TEACHERS, POSTSECONDARY',\n",
       "       'POSTSECONDARY TEACHERS, ALL OTHER',\n",
       "       'PRESCHOOL TEACHERS, EXCEPT SPECIAL EDUCATION',\n",
       "       'KINDERGARTEN TEACHERS, EXCEPT SPECIAL EDUCATION',\n",
       "       'ELEMENTARY SCHOOL TEACHERS, EXCEPT SPECIAL',\n",
       "       'ELEMENTARY SCHOOL TEACHERS, EXCEPT SPECIAL EDUCATION',\n",
       "       'ELEMENTARY SCHOOL TEACHERS, EXCEPT SPECIAL EDUCATI',\n",
       "       'ELEMENTARY SCHOOL TEACHERS',\n",
       "       'ELEMENTARY SCHOOL TEACHERS, EXCEPT SPECIAL EDUCAT',\n",
       "       'MIDDLE SCHOOL TEACHERS, EXCEPT SPECIAL AND',\n",
       "       'MIDDLE SCHOOL TEACHERS, EXCEPT SPECIAL AND CAREER/TECHNICAL EDUCATION',\n",
       "       'MIDDLE SCHOOL TEACHERS EXCEPT SPECIAL AND CAREER/T',\n",
       "       'MIDDLE SCHOOL TEACHERS, EXCEPT SPECIAL AND CAREER/',\n",
       "       'MIDDLE SCHOOL TEACHERS, EXCEPT SPECIAL AND CAREER',\n",
       "       'CAREER/TECHNICAL  EDUCATION TEACHERS, MIDDLE',\n",
       "       'SECONDARY SCHOOL TEACHERS, EXCEPT SPECIAL AND',\n",
       "       'SECONDARY SCHOOL TEACHERS, EXCEPT SPECIAL AND CARE',\n",
       "       'SECONDARY SCHOOL TEACHERS',\n",
       "       'SECONDARY SCHOOL TEACHERS, EXCEPT SPECIAL AND CAREER/TECHNICAL EDUCATION',\n",
       "       'SECONDARY SCHOOL TEACHER',\n",
       "       'SECONDARY SCHOOL TEACHERS, EXCEPT SPECIAL CAREER/T',\n",
       "       'SECONDARY SCHOOL TEACHERS, EXCEPT SPECIAL',\n",
       "       'CAREER/TECHNICAL EDUCATION TEACHERS, SECONDARY SCHOOL',\n",
       "       'SPECIAL EDUCATION TEACHERS, PRESCHOOL,',\n",
       "       'SPECIAL EDUCATION TEACHERS, PRESCHOOL, KINDERGARTEN, AND ELEMENTARY SCHOOL',\n",
       "       'SPECIAL EDUCATION TEACHERS, PRESCHOOL',\n",
       "       'SPECIAL EDUCATION TEACHERS, KINDERGARTEN AND',\n",
       "       'SPECIAL EDUCATION TEACHERS, KINDERGARTEN AND ELEMENTARY SCHOOL',\n",
       "       'SPECIAL EDUCATION TEACHERS, KINDERGARTEN AND ELEME',\n",
       "       'SPECIAL EDUCATION TEACHERS, MIDDLE SCHOOL',\n",
       "       'SPECIAL EDUCATION TEACHERS, SECONDARY SCHOOL',\n",
       "       'SPECIAL EDUCATION TEACHERS, ALL OTHER',\n",
       "       'ADULT BASIC AND SECONDARY EDUCATION AND LITERACY',\n",
       "       'ADULT BASIC AND SECONDARY EDUCATION AND LITERACY TEACHERS AND INSTRUCTORS',\n",
       "       'ADULT BASIC AND SECONDARY EDUCATION AND LITERACY T',\n",
       "       'SELF-ENRICHMENT EDUCATION TEACHERS', 'SUBSTITUTE TEACHERS',\n",
       "       'TEACHERS AND INSTRUCTORS, ALL OTHER', 'ARCHIVISTS', 'CURATORS',\n",
       "       'MUSEUM TECHNICIANS AND CONSERVATORS', 'LIBRARIANS',\n",
       "       'AUDIO-VISUAL AND MULTIMEDIA COLLECTIONS SPECIALISTS',\n",
       "       'FARM AND HOME MANAGEMENT ADVISORS', 'INSTRUCTIONAL COORDINATORS',\n",
       "       'INSTRUCTIONAL DESIGNERS AND TECHNOLOGISTS', 'TEACHER ASSISTANTS',\n",
       "       'EDUCATION, TRAINING, AND LIBRARY WORKERS, ALL',\n",
       "       'EDUCATION, TRAINING, AND LIBRARY WORKERS, ALL OTHER',\n",
       "       'ART DIRECTORS', 'CRAFT ARTISTS',\n",
       "       'FINE ARTISTS, INCLUDING PAINTERS, SCULPTORS, AND ILLUSTRATORS',\n",
       "       'MULTIMEDIA ARTISTS AND ANIMATORS',\n",
       "       'MULTIMEDIA ARTISTS AND ANIMAORS',\n",
       "       'ARTISTS AND RELATED WORKERS, ALL OTHER',\n",
       "       'COMMERICIAL AND INDUSTRIAL DESIGNERS',\n",
       "       'COMMERCIAL AND INDUSTRIAL DESIGNER', 'FASHION DESIGNERS',\n",
       "       'FLORAL DESIGNERS', 'GRAPHIC DESIGNERS', 'GRAPHIC DESIGNER',\n",
       "       'INTERIOR DESIGNERS', 'SET AND EXHIBIT DESIGNERS',\n",
       "       'DESIGNERS, ALL OTHER', 'PRODUCERS AND DIRECTORS',\n",
       "       'ATHLETES AND SPORTS COMPETITORS', 'COACHES AND SCOUTS',\n",
       "       'CHOREOGRAPHERS', 'MUSIC DIRECTORS AND COMPOSERS',\n",
       "       'MUSICIANS AND SINGERS', 'RADIO AND TELEVISION ANNOUNCERS',\n",
       "       'BROADCAST NEWS ANALYSTS', 'REPORTERS AND CORRESPONDENTS',\n",
       "       'PUBLIC RELATIONS SPECIALISTS', 'EDITORS', 'TECHNICAL WRITERS',\n",
       "       'WRITERS AND AUTHORS', 'INTERPRETERS AND TRANSLATORS',\n",
       "       'MEDIA AND COMMUNICATION WORKERS, ALL OTHER',\n",
       "       'BROADCAST TECHNICIANS', 'SOUND ENGINEERING TECHNICIANS',\n",
       "       'PHOTOGRAPHERS', 'FILM AND VIDEO EDITORS', 'CHIROPRACTORS',\n",
       "       'DENTISTS, GENERAL', 'DENTIST', 'DENTIST, GENERAL',\n",
       "       'ORAL AND MAXILLOFACIAL SURGEONS', 'ORTHODONTISTS',\n",
       "       'PROSTHODONTISTS', 'DENTISTS, ALL OTHER SPECIALISTS',\n",
       "       'DIETITIANS AND NUTRITIONISTS', 'DIETITIANS AND NUTRITIONIST',\n",
       "       'OPTOMETRISTS', 'PHARMACISTS', 'ANESTHESIOLOGISTS',\n",
       "       'FAMILY AND GENERAL PRACTITIONERS', 'INTERNISTS, GENERAL',\n",
       "       'INTERNIST, GENERAL', 'INTERNISTS GENERAL',\n",
       "       'OBSTETRICIANS AND GYNECOLOGISTS', 'PEDIATRICIANS, GENERAL',\n",
       "       'PEDIATRICIAN', 'PSYCHIATRISTS', 'SURGEONS',\n",
       "       'PHYSICIANS AND SURGEONS, ALL OTHER', 'HOSPITALISTS',\n",
       "       'PATHOLOGISTS', 'RADIOLOGISTS', 'NEUROLOGISTS',\n",
       "       'PHYSICIANS AND SURGEONS', 'PHYSICIANS AND SURGEONS; ALL OTHER',\n",
       "       'PHYSICIAN ASSISTANTS', 'PODIATRISTS', 'REGISTERED NURSES',\n",
       "       'PHYSICAL THERAPISTS', 'PHYSICAL THERAPIST',\n",
       "       'RECREATIONAL THERAPISTS', 'RESPIRATORY THERAPISTS',\n",
       "       'SPEECH-LANGUAGE PATHOLOGISTS', 'SPEECH LANGUAGE PATHOLOGISTS',\n",
       "       'EXERCISE PHYSIOLOGISTS', 'THERAPISTS, ALL OTHER', 'VETERINARIANS',\n",
       "       'NURSE ANESTHETISTS', 'NURSE PRACTITIONERS', 'AUDIOLOGISTS',\n",
       "       'HEALTH DIAGNOSING AND TREATING PRACTITIONERS, ALL',\n",
       "       'HEALTH DIAGNOSING AND TREATING PRACTITIONERS, ALL OTHER',\n",
       "       'MEDICAL AND CLINICAL LABORATORY TECHNOLOGISTS',\n",
       "       'MEDICAL AND LABORATORY TECHNOLOGISTS',\n",
       "       'MEDICAL AND CLINICAL LABORATORY TECHNICIANS',\n",
       "       'EMERGENCY MEDICAL TECHNICIANS AND PARAMEDICS',\n",
       "       'PHARMACY TECHNICIANS', 'PSYCHIATRIC TECHNICIANS',\n",
       "       'VETERINARY TECHNOLOGISTS AND TECHNICIANS',\n",
       "       'MEDICAL RECORDS AND HEALTH INFORMATION TECHNICIANS',\n",
       "       'OPTICIANS, DISPENSING', 'ORTHOTISTS AND PROSTHETISTS',\n",
       "       'HEALTH TECHNOLOGISTS AND TECHNICIANS, ALL OTHER',\n",
       "       'OCCUPATIONAL HEALTH AND SAFETY SPECIALISTS', 'ATHLETIC TRAINERS',\n",
       "       'GENETIC COUNSELORS',\n",
       "       'HEALTHCARE PRACTITIONERS AND TECHNICAL WORKERS, ALL OTHER',\n",
       "       'HEALTHCARE PRACTITIONERS AND TECHNICAL WORKERS,',\n",
       "       'HEALTHCARE PRACTITIONERS AND TECHNICAL WORKERS, AL',\n",
       "       'HEALTHCARE PRACTITIONERS AND TECHNICAL WORKERS',\n",
       "       'HEALTHCARE PRACTITIONERS AND SPECIALTY WORKERS, AL',\n",
       "       'HOME HEALTH AIDES', 'PHYSICAL THERAPIST ASSISTANTS',\n",
       "       'DENTAL ASSISTANTS', 'MEDICAL ASSISTANTS',\n",
       "       'VETERINARY ASSISTANTS AND LABORATORY ANIMAL CARETAKERS',\n",
       "       'HEALTHCARE SUPPORT WORKERS, ALL OTHER',\n",
       "       'DETECTIVES AND CRIMINAL INVESTIGATORS',\n",
       "       'PRIVATE DETECTIVES AND INVESTIGATORS', 'CHEFS AND HEAD COOKS',\n",
       "       'CHEF AND HEAD COOKS',\n",
       "       'FIRST-LINE SUPERVISORS OF FOOD PREPARATION AND SERVING WORKERS',\n",
       "       'FIRST-LINE SUPERVISORS OF FOOD PREPARATION AND SER',\n",
       "       'COOKS, RESTAURANT', 'MAIDS AND HOUSEKEEPING CLEANERS',\n",
       "       'LANDSCAPING AND GROUNDSKEEPING WORKERS',\n",
       "       'FIRST-LINE SUPERVISORS OF PERSONAL SERVICE WORKERS',\n",
       "       'MANICURISTS AND PEDICURISTS', 'TOUR GUIDES AND ESCORTS',\n",
       "       'TRAVEL GUIDES', 'CHILDCARE WORKERS', 'PERSONAL CARE AIDES',\n",
       "       'FITNESS TRAINERS AND AEROBICS INSTRUCTORS', 'RECREATION WORKERS',\n",
       "       'RESIDENTIAL ADVISORS',\n",
       "       'FIRST-LINE SUPERVISORS OF NON-RETAIL SALES WORKERS',\n",
       "       'RETAIL SALESPERSONS', 'ADVERTISING SALES AGENTS',\n",
       "       'INSURANCE SALES AGENTS',\n",
       "       'SECURITIES, COMMODITIES, AND FINANCIAL SERVICES',\n",
       "       'SECURITIES COMMODITIES AND FINANCIAL SERVICES SALE',\n",
       "       'SECURITIES, COMMODITIES, AND FINANCIAL SERVICES SALES AGENTS',\n",
       "       'SECURITIES, COMMODITIES, FINANCIAL SERVICES AGENTS',\n",
       "       'SECURITIES, COMMODITIES, AND FINANCIAL SERVICES SA',\n",
       "       'SALES AGENTS, SECURITIES AND COMMODITIES',\n",
       "       'SECURITIES AND COMMODITIES TRADERS',\n",
       "       'SALES REPRESENTATIVES, SERVICES, ALL OTHER',\n",
       "       'SALES REPRESENTATIVES, WHOLESALE AND',\n",
       "       'SALES REPRESENTATIVES, WHOLESALE AND MANUFACTURING, TECHNICAL AND SCIENTIFIC PRODUCTS',\n",
       "       'SALES REPRESENTATIVES, WHOLESALE AND MANUFACTURING',\n",
       "       'SALES REPRESENTATIVES, WHOLESALE AND MANUFACTURING, EXCEPT TECHNICAL AND SCIENTIFIC PRODUCTS',\n",
       "       'DEMONSTRATORS AND PRODUCT PROMOTERS', 'MODELS',\n",
       "       'REAL ESTATE BROKERS', 'SALES ENGINEERS', 'SALES ENGINEER',\n",
       "       'SALES ENGINEEER', 'SALES AND RELATED WORKERS, ALL OTHER',\n",
       "       'FIRST-LINE SUPERVISORS OF OFFICE AND ADMINISTRATIVE SUPPORT WORKERS',\n",
       "       'BILLING AND POSTING CLERKS',\n",
       "       'BOOKKEEPING, ACCOUNTING, AND AUDITING CLERKS',\n",
       "       'PAYROLL AND TIMEKEEPING CLERKS', 'PROCUREMENT CLERKS',\n",
       "       'FINANCIAL CLERKS, ALL OTHER', 'BROKERAGE CLERKS',\n",
       "       'CUSTOMER SERVICE REPRESENTATIVES', 'LOAN INTERVIEWERS AND CLERKS',\n",
       "       'HUMAN RESOURCES ASSISTANTS, EXCEPT PAYROLL AND TIMEKEEPING',\n",
       "       'RECEPTIONISTS AND INFORMATION CLERKS', 'CARGO AND FREIGHT AGENTS',\n",
       "       'PRODUCTION, PLANNING, AND EXPEDITING CLERKS',\n",
       "       'EXECUTIVE SECRETARIES AND EXECUTIVE ADMINISTRATIVE ASSISTANTS',\n",
       "       'LEGAL SECRETARIES', 'MEDICAL SECRETARIES',\n",
       "       'SECRETARIES AND ADMINISTRATIVE ASSISTANTS, EXCEPT LEGAL, MEDICAL, AND EXECUTIVE',\n",
       "       'COMPUTER OPERATORS', 'DATA ENTRY KEYERS', 'DESKTOP PUBLISHERS',\n",
       "       'MAIL CLERKS AND MAIL MACHINE OPERATORS, EXCEPT POSTAL SERVICE',\n",
       "       'OFFICE CLERKS, GENERAL', 'PROOFREADERS AND COPY MARKERS',\n",
       "       'STATISTICAL ASSISTANTS', 'BIOINFORMATICS TECHNICIANS',\n",
       "       'STATISTICAL ASSISTANT',\n",
       "       'OFFICE AND ADMINISTRATIVE SUPPORT WORKERS, ALL',\n",
       "       'OFFICE AND ADMINISTRATIVE SUPPORT WORKERS, ALL OTHER',\n",
       "       'FIRST-LINE SUPERVISORS OF FARMING, FISHING, AND FORESTRY WORKERS',\n",
       "       'AGRICULTURAL INSPECTORS', 'ANIMAL BREEDERS',\n",
       "       'FARMWORKERS AND LABORERS, CROP, NURSERY, AND GREENHOUSE',\n",
       "       'SUPERVISORS OF CONSTRUCTION AND EXTRACTION WORKERS',\n",
       "       'BOILERMAKERS', 'CARPENTERS',\n",
       "       'FLOOR LAYERS, EXCEPT CARPET, WOOD, AND HARD TILES',\n",
       "       'TILE AND MARBLE SETTERS', 'CEMENT MASONS AND CONCRETE FINISHERS',\n",
       "       'CONSTRUCTION LABORERS',\n",
       "       'OPERATING ENGINEERS AND OTHER CONSTRUCTION EQUIPMENT OPERATORS',\n",
       "       'ELECTRICIANS', 'PLUMBERS, PIPEFITTERS, AND STEAMFITTERS',\n",
       "       'HELPERS--ELECTRICIANS', 'HELPERS, CONSTRUCTION TRADES, ALL OTHER',\n",
       "       'CONSTRUCTION AND BUILDING INSPECTORS',\n",
       "       'CONSTRUCTION AND RELATED WORKERS, ALL OTHER',\n",
       "       'FIRST-LINE SUPERVISORS OF MECHANICS, INSTALLERS, AND REPAIRERS',\n",
       "       'TELECOMMUNICATIONS EQUIPMENT INSTALLERS AND REPAIRERS, EXCEPT LINE INSTALLERS',\n",
       "       'ELECTRICAL AND ELECTRONICS INSTALLERS AND REPAIRERS, TRANSPORTATION EQUIPMENT',\n",
       "       'ELECTRICAL AND ELECTRONICS REPAIRERS, COMMERCIAL AND INDUSTRIAL EQUIPMENT',\n",
       "       'SECURITY AND FIRE ALARM SYSTEMS INSTALLERS',\n",
       "       'AIRCRAFT MECHANICS AND SERVICE TECHNICIANS',\n",
       "       'AUTOMOTIVE SERVICE TECHNICIANS AND MECHANICS',\n",
       "       'BUS AND TRUCK MECHANICS AND DIESEL ENGINE SPECIALISTS',\n",
       "       'MEDICAL EQUIPMENT REPAIRERS',\n",
       "       'MUSICAL INSTRUMENT REPAIRERS AND TUNERS',\n",
       "       'MAINTENANCE AND REPAIR WORKERS, GENERAL',\n",
       "       'HELPERS--INSTALLATION, MAINTENANCE, AND REPAIR',\n",
       "       'HELPERS--INSTALLATION, MAINTENANCE, AND REPAIR WORKERS',\n",
       "       'FIRST-LINE SUPERVISORS OF PRODUCTION AND OPERATING WORKERS',\n",
       "       'STRUCTURAL METAL FABRICATORS AND FITTERS', 'BAKERS',\n",
       "       'FOOD BATCHMAKERS', 'FOOD COOKING MACHINE OPERATORS AND TENDERS',\n",
       "       'COMPUTER NUMERICALLY CONTROLLED MACHINE TOOL PROGRAMMERS, METAL AND PLASTIC',\n",
       "       'FOUNDRY MOLD AND COREMAKERS',\n",
       "       'WELDERS, CUTTERS, SOLDERERS, AND BRAZERS',\n",
       "       'PRINTING PRESS OPERATORS',\n",
       "       'SAWING MACHINE SETTERS, OPERATORS, AND TENDERS, WOOD',\n",
       "       'WOODWORKING MACHINE SETTERS, OPERATORS, AND TENDERS, EXCEPT SAWING',\n",
       "       'CHEMICAL PLANT AND SYSTEM OPERATORS',\n",
       "       'SEPARATING, FILTERING, CLARIFYING, PRECIPITATING, AND STILL MACHINE SETTERS, OPERATORS, AND TENDERS',\n",
       "       'INSPECTORS, TESTERS, SORTERS, SAMPLERS, AND WEIGHERS',\n",
       "       'JEWELERS AND PRECIOUS STONE AND METAL WORKERS',\n",
       "       'DENTAL LABORATORY TECHNICIANS', 'PRODUCTION WORKERS, ALL OTHER',\n",
       "       'AIRLINE PILOTS, COPILOTS, AND FLIGHT ENGINEERS',\n",
       "       'COMMERCIAL PILOTS', 'AIRFIELD OPERATIONS SPECIALISTS',\n",
       "       'HEAVY AND TRACTOR-TRAILER TRUCK DRIVERS', 'TRAFFIC TECHNICIANS',\n",
       "       'TRANSPORTATION INSPECTORS', 'CRANE AND TOWER OPERATORS',\n",
       "       '15-2031', nan], dtype=object)"
      ]
     },
     "execution_count": 20,
     "metadata": {},
     "output_type": "execute_result"
    }
   ],
   "source": [
    "df['SOC_TITLE'].unique()"
   ]
  },
  {
   "cell_type": "code",
   "execution_count": 21,
   "id": "36134a46",
   "metadata": {},
   "outputs": [],
   "source": [
    "order_by_SOC_title = df.groupby('SOC_TITLE').count().sort_values(by='CASE_STATUS', ascending=False).index[0:5]\n"
   ]
  },
  {
   "cell_type": "code",
   "execution_count": 22,
   "id": "4ddc67bf",
   "metadata": {},
   "outputs": [
    {
     "data": {
      "text/plain": [
       "Index(['SOFTWARE DEVELOPERS, APPLICATIONS', 'COMPUTER OCCUPATIONS, ALL OTHER',\n",
       "       'COMPUTER SYSTEMS ANALYST', 'SOFTWARE DEVELOPERS, SYSTEMS SOFTWARE',\n",
       "       'COMPUTER SYSTEMS ANALYSTS'],\n",
       "      dtype='object', name='SOC_TITLE')"
      ]
     },
     "execution_count": 22,
     "metadata": {},
     "output_type": "execute_result"
    }
   ],
   "source": [
    "order_by_SOC_title"
   ]
  },
  {
   "cell_type": "code",
   "execution_count": 23,
   "id": "18a798da",
   "metadata": {},
   "outputs": [
    {
     "data": {
      "text/plain": [
       "<AxesSubplot:xlabel='SOC_TITLE', ylabel='count'>"
      ]
     },
     "execution_count": 23,
     "metadata": {},
     "output_type": "execute_result"
    },
    {
     "data": {
      "image/png": "[encoded data removed]",
      "text/plain": [
       "<Figure size 1872x720 with 1 Axes>"
      ]
     },
     "metadata": {},
     "output_type": "display_data"
    }
   ],
   "source": [
    "#plot order by SOC_TITLE\n",
    "plt.figure(figsize=(26,10))\n",
    "sns.countplot(x='SOC_TITLE', data=df, order=order_by_SOC_title,palette='pastel')"
   ]
  },
  {
   "cell_type": "code",
   "execution_count": 24,
   "id": "8874416c",
   "metadata": {},
   "outputs": [
    {
     "data": {
      "text/html": [
       "<div>\n",
       "<style scoped>\n",
       "    .dataframe tbody tr th:only-of-type {\n",
       "        vertical-align: middle;\n",
       "    }\n",
       "\n",
       "    .dataframe tbody tr th {\n",
       "        vertical-align: top;\n",
       "    }\n",
       "\n",
       "    .dataframe thead th {\n",
       "        text-align: right;\n",
       "    }\n",
       "</style>\n",
       "<table border=\"1\" class=\"dataframe\">\n",
       "  <thead>\n",
       "    <tr style=\"text-align: right;\">\n",
       "      <th></th>\n",
       "      <th>CASE_NUMBER</th>\n",
       "      <th>CASE_STATUS</th>\n",
       "      <th>CASE_SUBMITTED</th>\n",
       "      <th>DECISION_DATE</th>\n",
       "      <th>ORIGINAL_CERT_DATE</th>\n",
       "      <th>VISA_CLASS</th>\n",
       "      <th>JOB_TITLE</th>\n",
       "      <th>SOC_CODE</th>\n",
       "      <th>SOC_TITLE</th>\n",
       "      <th>FULL_TIME_POSITION</th>\n",
       "      <th>...</th>\n",
       "      <th>PW_OTHER_SOURCE_10</th>\n",
       "      <th>PW_NON-OES_YEAR_10</th>\n",
       "      <th>PW_SURVEY_PUBLISHER_10</th>\n",
       "      <th>PW_SURVEY_NAME_10</th>\n",
       "      <th>H-1B_DEPENDENT</th>\n",
       "      <th>WILLFUL_VIOLATOR</th>\n",
       "      <th>SUPPORT_H1B</th>\n",
       "      <th>STATUTORY_BASIS</th>\n",
       "      <th>MASTERS_EXEMPTION</th>\n",
       "      <th>PUBLIC_DISCLOSURE</th>\n",
       "    </tr>\n",
       "  </thead>\n",
       "  <tbody>\n",
       "    <tr>\n",
       "      <th>24</th>\n",
       "      <td>I-200-18162-689783</td>\n",
       "      <td>CERTIFIED</td>\n",
       "      <td>26-09-2018</td>\n",
       "      <td>02-10-2018</td>\n",
       "      <td>NaN</td>\n",
       "      <td>H-1B</td>\n",
       "      <td>ADVERSTING AND PROMOTIONS MANAGER</td>\n",
       "      <td>11-2011</td>\n",
       "      <td>ADVERTISING AND PROMOTIONS MANAGERS</td>\n",
       "      <td>N</td>\n",
       "      <td>...</td>\n",
       "      <td>NaN</td>\n",
       "      <td>NaN</td>\n",
       "      <td>NaN</td>\n",
       "      <td>NaN</td>\n",
       "      <td>N</td>\n",
       "      <td>N</td>\n",
       "      <td>NaN</td>\n",
       "      <td>NaN</td>\n",
       "      <td>NaN</td>\n",
       "      <td>NaN</td>\n",
       "    </tr>\n",
       "    <tr>\n",
       "      <th>26</th>\n",
       "      <td>I-200-18268-784387</td>\n",
       "      <td>CERTIFIED</td>\n",
       "      <td>27-09-2018</td>\n",
       "      <td>03-10-2018</td>\n",
       "      <td>NaN</td>\n",
       "      <td>H-1B</td>\n",
       "      <td>ADVERTISING AND PROMOTIONS DIRECTOR</td>\n",
       "      <td>11-2011</td>\n",
       "      <td>ADVERTISING AND PROMOTIONS MANAGERS</td>\n",
       "      <td>Y</td>\n",
       "      <td>...</td>\n",
       "      <td>NaN</td>\n",
       "      <td>NaN</td>\n",
       "      <td>NaN</td>\n",
       "      <td>NaN</td>\n",
       "      <td>N</td>\n",
       "      <td>N</td>\n",
       "      <td>NaN</td>\n",
       "      <td>NaN</td>\n",
       "      <td>NaN</td>\n",
       "      <td>NaN</td>\n",
       "    </tr>\n",
       "    <tr>\n",
       "      <th>47</th>\n",
       "      <td>I-200-18299-123963</td>\n",
       "      <td>CERTIFIED</td>\n",
       "      <td>10-26-2018 17:31:16</td>\n",
       "      <td>11-01-2018 22:00:49</td>\n",
       "      <td>NaN</td>\n",
       "      <td>H-1B</td>\n",
       "      <td>PROGRAM MANAGER I</td>\n",
       "      <td>11-2011</td>\n",
       "      <td>ADVERTISING AND PROMOTIONS MANAGERS</td>\n",
       "      <td>Y</td>\n",
       "      <td>...</td>\n",
       "      <td>NaN</td>\n",
       "      <td>NaN</td>\n",
       "      <td>NaN</td>\n",
       "      <td>NaN</td>\n",
       "      <td>N</td>\n",
       "      <td>N</td>\n",
       "      <td>NaN</td>\n",
       "      <td>NaN</td>\n",
       "      <td>NaN</td>\n",
       "      <td>PLACE OF BUSINESS</td>\n",
       "    </tr>\n",
       "    <tr>\n",
       "      <th>52</th>\n",
       "      <td>I-200-18310-551334</td>\n",
       "      <td>CERTIFIED</td>\n",
       "      <td>11-06-2018 12:37:33</td>\n",
       "      <td>11-13-2018 22:00:38</td>\n",
       "      <td>NaN</td>\n",
       "      <td>H-1B</td>\n",
       "      <td>ASSOCIATE STRATEGY DIRECTOR</td>\n",
       "      <td>11-2011</td>\n",
       "      <td>ADVERTISING AND PROMOTIONS MANAGERS</td>\n",
       "      <td>Y</td>\n",
       "      <td>...</td>\n",
       "      <td>NaN</td>\n",
       "      <td>NaN</td>\n",
       "      <td>NaN</td>\n",
       "      <td>NaN</td>\n",
       "      <td>N</td>\n",
       "      <td>N</td>\n",
       "      <td>NaN</td>\n",
       "      <td>NaN</td>\n",
       "      <td>NaN</td>\n",
       "      <td>PLACE OF BUSINESS</td>\n",
       "    </tr>\n",
       "    <tr>\n",
       "      <th>54</th>\n",
       "      <td>I-200-18317-440186</td>\n",
       "      <td>CERTIFIED</td>\n",
       "      <td>11-13-2018 20:06:33</td>\n",
       "      <td>11-19-2018 22:00:55</td>\n",
       "      <td>NaN</td>\n",
       "      <td>H-1B</td>\n",
       "      <td>ADVERTISING AND PROMOTIONS MANAGER</td>\n",
       "      <td>11-2011</td>\n",
       "      <td>ADVERTISING AND PROMOTIONS MANAGERS</td>\n",
       "      <td>Y</td>\n",
       "      <td>...</td>\n",
       "      <td>NaN</td>\n",
       "      <td>NaN</td>\n",
       "      <td>NaN</td>\n",
       "      <td>NaN</td>\n",
       "      <td>N</td>\n",
       "      <td>N</td>\n",
       "      <td>NaN</td>\n",
       "      <td>NaN</td>\n",
       "      <td>NaN</td>\n",
       "      <td>PLACE OF BUSINESS</td>\n",
       "    </tr>\n",
       "  </tbody>\n",
       "</table>\n",
       "<p>5 rows × 260 columns</p>\n",
       "</div>"
      ],
      "text/plain": [
       "           CASE_NUMBER CASE_STATUS       CASE_SUBMITTED        DECISION_DATE  \\\n",
       "24  I-200-18162-689783   CERTIFIED           26-09-2018           02-10-2018   \n",
       "26  I-200-18268-784387   CERTIFIED           27-09-2018           03-10-2018   \n",
       "47  I-200-18299-123963   CERTIFIED  10-26-2018 17:31:16  11-01-2018 22:00:49   \n",
       "52  I-200-18310-551334   CERTIFIED  11-06-2018 12:37:33  11-13-2018 22:00:38   \n",
       "54  I-200-18317-440186   CERTIFIED  11-13-2018 20:06:33  11-19-2018 22:00:55   \n",
       "\n",
       "   ORIGINAL_CERT_DATE VISA_CLASS                            JOB_TITLE  \\\n",
       "24                NaN       H-1B    ADVERSTING AND PROMOTIONS MANAGER   \n",
       "26                NaN       H-1B  ADVERTISING AND PROMOTIONS DIRECTOR   \n",
       "47                NaN       H-1B                    PROGRAM MANAGER I   \n",
       "52                NaN       H-1B          ASSOCIATE STRATEGY DIRECTOR   \n",
       "54                NaN       H-1B   ADVERTISING AND PROMOTIONS MANAGER   \n",
       "\n",
       "   SOC_CODE                            SOC_TITLE FULL_TIME_POSITION  ...  \\\n",
       "24  11-2011  ADVERTISING AND PROMOTIONS MANAGERS                  N  ...   \n",
       "26  11-2011  ADVERTISING AND PROMOTIONS MANAGERS                  Y  ...   \n",
       "47  11-2011  ADVERTISING AND PROMOTIONS MANAGERS                  Y  ...   \n",
       "52  11-2011  ADVERTISING AND PROMOTIONS MANAGERS                  Y  ...   \n",
       "54  11-2011  ADVERTISING AND PROMOTIONS MANAGERS                  Y  ...   \n",
       "\n",
       "   PW_OTHER_SOURCE_10 PW_NON-OES_YEAR_10  PW_SURVEY_PUBLISHER_10  \\\n",
       "24                NaN                NaN                     NaN   \n",
       "26                NaN                NaN                     NaN   \n",
       "47                NaN                NaN                     NaN   \n",
       "52                NaN                NaN                     NaN   \n",
       "54                NaN                NaN                     NaN   \n",
       "\n",
       "   PW_SURVEY_NAME_10 H-1B_DEPENDENT  WILLFUL_VIOLATOR  SUPPORT_H1B  \\\n",
       "24               NaN              N                 N          NaN   \n",
       "26               NaN              N                 N          NaN   \n",
       "47               NaN              N                 N          NaN   \n",
       "52               NaN              N                 N          NaN   \n",
       "54               NaN              N                 N          NaN   \n",
       "\n",
       "    STATUTORY_BASIS  MASTERS_EXEMPTION  PUBLIC_DISCLOSURE  \n",
       "24              NaN                NaN                NaN  \n",
       "26              NaN                NaN                NaN  \n",
       "47              NaN                NaN  PLACE OF BUSINESS  \n",
       "52              NaN                NaN  PLACE OF BUSINESS  \n",
       "54              NaN                NaN  PLACE OF BUSINESS  \n",
       "\n",
       "[5 rows x 260 columns]"
      ]
     },
     "execution_count": 24,
     "metadata": {},
     "output_type": "execute_result"
    }
   ],
   "source": [
    "df.head()"
   ]
  },
  {
   "cell_type": "code",
   "execution_count": 25,
   "id": "e839c28e",
   "metadata": {},
   "outputs": [],
   "source": [
    "df['DECISION_DATE']=pd.to_datetime(df['DECISION_DATE'])"
   ]
  },
  {
   "cell_type": "code",
   "execution_count": 26,
   "id": "c880dbdd",
   "metadata": {},
   "outputs": [],
   "source": [
    "df['year'] = df['DECISION_DATE'].apply(lambda date:date.year)"
   ]
  },
  {
   "cell_type": "code",
   "execution_count": 27,
   "id": "fbe11bd6",
   "metadata": {},
   "outputs": [],
   "source": [
    "df['month'] = df['DECISION_DATE'].apply(lambda date:date.month)"
   ]
  },
  {
   "cell_type": "code",
   "execution_count": 28,
   "id": "1c019e69",
   "metadata": {},
   "outputs": [
    {
     "data": {
      "text/plain": [
       "2019.0    505779\n",
       "2018.0     78027\n",
       "Name: year, dtype: int64"
      ]
     },
     "execution_count": 28,
     "metadata": {},
     "output_type": "execute_result"
    }
   ],
   "source": [
    "df['year'].value_counts()"
   ]
  },
  {
   "cell_type": "code",
   "execution_count": 29,
   "id": "48d35a9f",
   "metadata": {},
   "outputs": [
    {
     "data": {
      "text/plain": [
       "3.0     148735\n",
       "2.0      56137\n",
       "11.0     45979\n",
       "1.0      44270\n",
       "5.0      42487\n",
       "4.0      39904\n",
       "12.0     36807\n",
       "7.0      36605\n",
       "6.0      36520\n",
       "9.0      33080\n",
       "10.0     32817\n",
       "8.0      30465\n",
       "Name: month, dtype: int64"
      ]
     },
     "execution_count": 29,
     "metadata": {},
     "output_type": "execute_result"
    }
   ],
   "source": [
    "df['month'].value_counts().sort_values(ascending=False)"
   ]
  },
  {
   "cell_type": "code",
   "execution_count": 30,
   "id": "b7990c07",
   "metadata": {},
   "outputs": [
    {
     "data": {
      "text/plain": [
       "<AxesSubplot:xlabel='year', ylabel='count'>"
      ]
     },
     "execution_count": 30,
     "metadata": {},
     "output_type": "execute_result"
    },
    {
     "data": {
      "image/png": "[encoded data removed]",
      "text/plain": [
       "<Figure size 576x396 with 1 Axes>"
      ]
     },
     "metadata": {},
     "output_type": "display_data"
    }
   ],
   "source": [
    "# There was a huge spike in the number of certified cases from 2018 to 2019\n",
    "sns.countplot(x='year',data=df,hue='CASE_STATUS')"
   ]
  },
  {
   "cell_type": "code",
   "execution_count": 31,
   "id": "d19ee9a5",
   "metadata": {},
   "outputs": [
    {
     "data": {
      "text/plain": [
       "<AxesSubplot:>"
      ]
     },
     "execution_count": 31,
     "metadata": {},
     "output_type": "execute_result"
    },
    {
     "data": {
      "image/png": "[encoded data removed]",
      "text/plain": [
       "<Figure size 576x396 with 1 Axes>"
      ]
     },
     "metadata": {},
     "output_type": "display_data"
    }
   ],
   "source": [
    "# Most of the VISA applications were in the month of March and the least of all were in August\n",
    "df['month'].value_counts().sort_values(ascending=False).plot(kind='bar')"
   ]
  },
  {
   "cell_type": "code",
   "execution_count": 32,
   "id": "497eae72",
   "metadata": {},
   "outputs": [
    {
     "data": {
      "text/plain": [
       "<AxesSubplot:xlabel='month', ylabel='Density'>"
      ]
     },
     "execution_count": 32,
     "metadata": {},
     "output_type": "execute_result"
    },
    {
     "data": {
      "image/png": "[encoded data removed]",
      "text/plain": [
       "<Figure size 576x396 with 1 Axes>"
      ]
     },
     "metadata": {},
     "output_type": "display_data"
    }
   ],
   "source": [
    "sns.kdeplot(df['month'])"
   ]
  },
  {
   "cell_type": "code",
   "execution_count": 33,
   "id": "1f46ea44",
   "metadata": {},
   "outputs": [],
   "source": [
    "df.drop('DECISION_DATE',axis=1,inplace=True)"
   ]
  },
  {
   "cell_type": "code",
   "execution_count": 34,
   "id": "70285a18",
   "metadata": {},
   "outputs": [
    {
     "data": {
      "text/html": [
       "<div>\n",
       "<style scoped>\n",
       "    .dataframe tbody tr th:only-of-type {\n",
       "        vertical-align: middle;\n",
       "    }\n",
       "\n",
       "    .dataframe tbody tr th {\n",
       "        vertical-align: top;\n",
       "    }\n",
       "\n",
       "    .dataframe thead th {\n",
       "        text-align: right;\n",
       "    }\n",
       "</style>\n",
       "<table border=\"1\" class=\"dataframe\">\n",
       "  <thead>\n",
       "    <tr style=\"text-align: right;\">\n",
       "      <th></th>\n",
       "      <th>CASE_NUMBER</th>\n",
       "      <th>CASE_STATUS</th>\n",
       "      <th>CASE_SUBMITTED</th>\n",
       "      <th>ORIGINAL_CERT_DATE</th>\n",
       "      <th>VISA_CLASS</th>\n",
       "      <th>JOB_TITLE</th>\n",
       "      <th>SOC_CODE</th>\n",
       "      <th>SOC_TITLE</th>\n",
       "      <th>FULL_TIME_POSITION</th>\n",
       "      <th>PERIOD_OF_EMPLOYMENT_START_DATE</th>\n",
       "      <th>...</th>\n",
       "      <th>PW_SURVEY_PUBLISHER_10</th>\n",
       "      <th>PW_SURVEY_NAME_10</th>\n",
       "      <th>H-1B_DEPENDENT</th>\n",
       "      <th>WILLFUL_VIOLATOR</th>\n",
       "      <th>SUPPORT_H1B</th>\n",
       "      <th>STATUTORY_BASIS</th>\n",
       "      <th>MASTERS_EXEMPTION</th>\n",
       "      <th>PUBLIC_DISCLOSURE</th>\n",
       "      <th>year</th>\n",
       "      <th>month</th>\n",
       "    </tr>\n",
       "  </thead>\n",
       "  <tbody>\n",
       "    <tr>\n",
       "      <th>24</th>\n",
       "      <td>I-200-18162-689783</td>\n",
       "      <td>CERTIFIED</td>\n",
       "      <td>26-09-2018</td>\n",
       "      <td>NaN</td>\n",
       "      <td>H-1B</td>\n",
       "      <td>ADVERSTING AND PROMOTIONS MANAGER</td>\n",
       "      <td>11-2011</td>\n",
       "      <td>ADVERTISING AND PROMOTIONS MANAGERS</td>\n",
       "      <td>N</td>\n",
       "      <td>01-10-2018</td>\n",
       "      <td>...</td>\n",
       "      <td>NaN</td>\n",
       "      <td>NaN</td>\n",
       "      <td>N</td>\n",
       "      <td>N</td>\n",
       "      <td>NaN</td>\n",
       "      <td>NaN</td>\n",
       "      <td>NaN</td>\n",
       "      <td>NaN</td>\n",
       "      <td>2018.0</td>\n",
       "      <td>2.0</td>\n",
       "    </tr>\n",
       "    <tr>\n",
       "      <th>26</th>\n",
       "      <td>I-200-18268-784387</td>\n",
       "      <td>CERTIFIED</td>\n",
       "      <td>27-09-2018</td>\n",
       "      <td>NaN</td>\n",
       "      <td>H-1B</td>\n",
       "      <td>ADVERTISING AND PROMOTIONS DIRECTOR</td>\n",
       "      <td>11-2011</td>\n",
       "      <td>ADVERTISING AND PROMOTIONS MANAGERS</td>\n",
       "      <td>Y</td>\n",
       "      <td>08-02-2019</td>\n",
       "      <td>...</td>\n",
       "      <td>NaN</td>\n",
       "      <td>NaN</td>\n",
       "      <td>N</td>\n",
       "      <td>N</td>\n",
       "      <td>NaN</td>\n",
       "      <td>NaN</td>\n",
       "      <td>NaN</td>\n",
       "      <td>NaN</td>\n",
       "      <td>2018.0</td>\n",
       "      <td>3.0</td>\n",
       "    </tr>\n",
       "    <tr>\n",
       "      <th>47</th>\n",
       "      <td>I-200-18299-123963</td>\n",
       "      <td>CERTIFIED</td>\n",
       "      <td>10-26-2018 17:31:16</td>\n",
       "      <td>NaN</td>\n",
       "      <td>H-1B</td>\n",
       "      <td>PROGRAM MANAGER I</td>\n",
       "      <td>11-2011</td>\n",
       "      <td>ADVERTISING AND PROMOTIONS MANAGERS</td>\n",
       "      <td>Y</td>\n",
       "      <td>11/15/2018</td>\n",
       "      <td>...</td>\n",
       "      <td>NaN</td>\n",
       "      <td>NaN</td>\n",
       "      <td>N</td>\n",
       "      <td>N</td>\n",
       "      <td>NaN</td>\n",
       "      <td>NaN</td>\n",
       "      <td>NaN</td>\n",
       "      <td>PLACE OF BUSINESS</td>\n",
       "      <td>2018.0</td>\n",
       "      <td>11.0</td>\n",
       "    </tr>\n",
       "    <tr>\n",
       "      <th>52</th>\n",
       "      <td>I-200-18310-551334</td>\n",
       "      <td>CERTIFIED</td>\n",
       "      <td>11-06-2018 12:37:33</td>\n",
       "      <td>NaN</td>\n",
       "      <td>H-1B</td>\n",
       "      <td>ASSOCIATE STRATEGY DIRECTOR</td>\n",
       "      <td>11-2011</td>\n",
       "      <td>ADVERTISING AND PROMOTIONS MANAGERS</td>\n",
       "      <td>Y</td>\n",
       "      <td>11/24/2018</td>\n",
       "      <td>...</td>\n",
       "      <td>NaN</td>\n",
       "      <td>NaN</td>\n",
       "      <td>N</td>\n",
       "      <td>N</td>\n",
       "      <td>NaN</td>\n",
       "      <td>NaN</td>\n",
       "      <td>NaN</td>\n",
       "      <td>PLACE OF BUSINESS</td>\n",
       "      <td>2018.0</td>\n",
       "      <td>11.0</td>\n",
       "    </tr>\n",
       "    <tr>\n",
       "      <th>54</th>\n",
       "      <td>I-200-18317-440186</td>\n",
       "      <td>CERTIFIED</td>\n",
       "      <td>11-13-2018 20:06:33</td>\n",
       "      <td>NaN</td>\n",
       "      <td>H-1B</td>\n",
       "      <td>ADVERTISING AND PROMOTIONS MANAGER</td>\n",
       "      <td>11-2011</td>\n",
       "      <td>ADVERTISING AND PROMOTIONS MANAGERS</td>\n",
       "      <td>Y</td>\n",
       "      <td>05/12/2019</td>\n",
       "      <td>...</td>\n",
       "      <td>NaN</td>\n",
       "      <td>NaN</td>\n",
       "      <td>N</td>\n",
       "      <td>N</td>\n",
       "      <td>NaN</td>\n",
       "      <td>NaN</td>\n",
       "      <td>NaN</td>\n",
       "      <td>PLACE OF BUSINESS</td>\n",
       "      <td>2018.0</td>\n",
       "      <td>11.0</td>\n",
       "    </tr>\n",
       "  </tbody>\n",
       "</table>\n",
       "<p>5 rows × 261 columns</p>\n",
       "</div>"
      ],
      "text/plain": [
       "           CASE_NUMBER CASE_STATUS       CASE_SUBMITTED ORIGINAL_CERT_DATE  \\\n",
       "24  I-200-18162-689783   CERTIFIED           26-09-2018                NaN   \n",
       "26  I-200-18268-784387   CERTIFIED           27-09-2018                NaN   \n",
       "47  I-200-18299-123963   CERTIFIED  10-26-2018 17:31:16                NaN   \n",
       "52  I-200-18310-551334   CERTIFIED  11-06-2018 12:37:33                NaN   \n",
       "54  I-200-18317-440186   CERTIFIED  11-13-2018 20:06:33                NaN   \n",
       "\n",
       "   VISA_CLASS                            JOB_TITLE SOC_CODE  \\\n",
       "24       H-1B    ADVERSTING AND PROMOTIONS MANAGER  11-2011   \n",
       "26       H-1B  ADVERTISING AND PROMOTIONS DIRECTOR  11-2011   \n",
       "47       H-1B                    PROGRAM MANAGER I  11-2011   \n",
       "52       H-1B          ASSOCIATE STRATEGY DIRECTOR  11-2011   \n",
       "54       H-1B   ADVERTISING AND PROMOTIONS MANAGER  11-2011   \n",
       "\n",
       "                              SOC_TITLE FULL_TIME_POSITION  \\\n",
       "24  ADVERTISING AND PROMOTIONS MANAGERS                  N   \n",
       "26  ADVERTISING AND PROMOTIONS MANAGERS                  Y   \n",
       "47  ADVERTISING AND PROMOTIONS MANAGERS                  Y   \n",
       "52  ADVERTISING AND PROMOTIONS MANAGERS                  Y   \n",
       "54  ADVERTISING AND PROMOTIONS MANAGERS                  Y   \n",
       "\n",
       "   PERIOD_OF_EMPLOYMENT_START_DATE  ... PW_SURVEY_PUBLISHER_10  \\\n",
       "24                      01-10-2018  ...                    NaN   \n",
       "26                      08-02-2019  ...                    NaN   \n",
       "47                      11/15/2018  ...                    NaN   \n",
       "52                      11/24/2018  ...                    NaN   \n",
       "54                      05/12/2019  ...                    NaN   \n",
       "\n",
       "    PW_SURVEY_NAME_10 H-1B_DEPENDENT WILLFUL_VIOLATOR  SUPPORT_H1B  \\\n",
       "24                NaN              N                N          NaN   \n",
       "26                NaN              N                N          NaN   \n",
       "47                NaN              N                N          NaN   \n",
       "52                NaN              N                N          NaN   \n",
       "54                NaN              N                N          NaN   \n",
       "\n",
       "    STATUTORY_BASIS  MASTERS_EXEMPTION  PUBLIC_DISCLOSURE    year month  \n",
       "24              NaN                NaN                NaN  2018.0   2.0  \n",
       "26              NaN                NaN                NaN  2018.0   3.0  \n",
       "47              NaN                NaN  PLACE OF BUSINESS  2018.0  11.0  \n",
       "52              NaN                NaN  PLACE OF BUSINESS  2018.0  11.0  \n",
       "54              NaN                NaN  PLACE OF BUSINESS  2018.0  11.0  \n",
       "\n",
       "[5 rows x 261 columns]"
      ]
     },
     "execution_count": 34,
     "metadata": {},
     "output_type": "execute_result"
    }
   ],
   "source": [
    "df.head()"
   ]
  },
  {
   "cell_type": "code",
   "execution_count": 35,
   "id": "da90c40c",
   "metadata": {},
   "outputs": [
    {
     "data": {
      "text/plain": [
       "array(['N', 'Y', nan], dtype=object)"
      ]
     },
     "execution_count": 35,
     "metadata": {},
     "output_type": "execute_result"
    }
   ],
   "source": [
    "df['WILLFUL_VIOLATOR'].unique()"
   ]
  },
  {
   "cell_type": "code",
   "execution_count": 36,
   "id": "0bf31973",
   "metadata": {},
   "outputs": [
    {
     "data": {
      "image/png": "[encoded data removed]",
      "text/plain": [
       "<Figure size 1152x720 with 1 Axes>"
      ]
     },
     "metadata": {},
     "output_type": "display_data"
    },
    {
     "data": {
      "text/plain": [
       "<AxesSubplot:xlabel='WILLFUL_VIOLATOR', ylabel='count'>"
      ]
     },
     "execution_count": 36,
     "metadata": {},
     "output_type": "execute_result"
    },
    {
     "data": {
      "image/png": "[encoded data removed]",
      "text/plain": [
       "<Figure size 576x396 with 1 Axes>"
      ]
     },
     "metadata": {},
     "output_type": "display_data"
    }
   ],
   "source": [
    "# Almost all the VISA applications which got certified did not violate H-1B rules\n",
    "plt.figure(figsize=(16,10))\n",
    "plt.subplot(2,2,1)\n",
    "sns.set_style('darkgrid')\n",
    "Yes = df.WILLFUL_VIOLATOR[df.WILLFUL_VIOLATOR == 'Y'].count()\n",
    "No = df.WILLFUL_VIOLATOR[df.WILLFUL_VIOLATOR == 'N'].count()\n",
    "plt.title(\"No. of employers who violated H-1B rules\")\n",
    "plt.pie([Yes, No], labels=['Yes', 'No'], autopct=\"%.2f%%\")\n",
    "plt.legend(loc=(1,0.5))\n",
    "plt.show()\n",
    "plt.subplot(2,1,2)\n",
    "sns.countplot(x='WILLFUL_VIOLATOR',data=df,hue='CASE_STATUS',palette='bright')"
   ]
  },
  {
   "cell_type": "code",
   "execution_count": 37,
   "id": "d3e40297",
   "metadata": {},
   "outputs": [
    {
     "data": {
      "image/png": "[encoded data removed]",
      "text/plain": [
       "<Figure size 1152x720 with 1 Axes>"
      ]
     },
     "metadata": {},
     "output_type": "display_data"
    },
    {
     "data": {
      "text/plain": [
       "<AxesSubplot:xlabel='PW_WAGE_LEVEL_1', ylabel='count'>"
      ]
     },
     "execution_count": 37,
     "metadata": {},
     "output_type": "execute_result"
    },
    {
     "data": {
      "image/png": "[encoded data removed]",
      "text/plain": [
       "<Figure size 576x396 with 1 Axes>"
      ]
     },
     "metadata": {},
     "output_type": "display_data"
    }
   ],
   "source": [
    "plt.figure(figsize=(16,10))\n",
    "plt.subplot(2,2,1)\n",
    "wage_level = df['PW_WAGE_LEVEL_1'].value_counts()\n",
    "plt.pie(wage_level,autopct='%.2f',labels=['Level II','Level III','Level I','Level IV'])\n",
    "plt.show()\n",
    "plt.subplot(2,1,2)\n",
    "sns.countplot(x='PW_WAGE_LEVEL_1',data=df,hue='CASE_STATUS',palette='colorblind')"
   ]
  },
  {
   "cell_type": "code",
   "execution_count": 38,
   "id": "b6bad895",
   "metadata": {},
   "outputs": [
    {
     "data": {
      "text/plain": [
       "<AxesSubplot:ylabel='CASE_STATUS'>"
      ]
     },
     "execution_count": 38,
     "metadata": {},
     "output_type": "execute_result"
    },
    {
     "data": {
      "image/png": "[encoded data removed]",
      "text/plain": [
       "<Figure size 576x396 with 1 Axes>"
      ]
     },
     "metadata": {},
     "output_type": "display_data"
    }
   ],
   "source": [
    "pd.crosstab(df['CASE_STATUS'],df['FULL_TIME_POSITION']).plot(kind='barh')"
   ]
  },
  {
   "cell_type": "code",
   "execution_count": 39,
   "id": "3dc98378",
   "metadata": {},
   "outputs": [
    {
     "data": {
      "text/plain": [
       "Index(['CASE_NUMBER', 'CASE_STATUS', 'CASE_SUBMITTED', 'ORIGINAL_CERT_DATE',\n",
       "       'VISA_CLASS', 'JOB_TITLE', 'SOC_CODE', 'SOC_TITLE',\n",
       "       'FULL_TIME_POSITION', 'PERIOD_OF_EMPLOYMENT_START_DATE',\n",
       "       ...\n",
       "       'PW_SURVEY_PUBLISHER_10', 'PW_SURVEY_NAME_10', 'H-1B_DEPENDENT',\n",
       "       'WILLFUL_VIOLATOR', 'SUPPORT_H1B', 'STATUTORY_BASIS',\n",
       "       'MASTERS_EXEMPTION', 'PUBLIC_DISCLOSURE', 'year', 'month'],\n",
       "      dtype='object', length=261)"
      ]
     },
     "execution_count": 39,
     "metadata": {},
     "output_type": "execute_result"
    }
   ],
   "source": [
    "df.columns"
   ]
  },
  {
   "cell_type": "code",
   "execution_count": 40,
   "id": "1b2dd260",
   "metadata": {},
   "outputs": [],
   "source": [
    "df['CONTINUED_EMPLOYMENT']=df['CONTINUED_EMPLOYMENT'].replace(to_replace=['1','0','2','3','4','5','8','10'],value=[1,0,2,3,4,5,8,10])"
   ]
  },
  {
   "cell_type": "code",
   "execution_count": 41,
   "id": "5a9f41d4",
   "metadata": {},
   "outputs": [
    {
     "data": {
      "text/plain": [
       "0     439059\n",
       "1     133697\n",
       "5       4808\n",
       "2       2554\n",
       "4       1304\n",
       "10      1119\n",
       "3        721\n",
       "25       136\n",
       "8         80\n",
       "20        76\n",
       "15        74\n",
       "6         64\n",
       "12        35\n",
       "50        23\n",
       "30        22\n",
       "40        10\n",
       "18         8\n",
       "B          3\n",
       "35         3\n",
       "99         2\n",
       "13         2\n",
       "7          2\n",
       "45         1\n",
       "17         1\n",
       "21         1\n",
       "11         1\n",
       "Name: CONTINUED_EMPLOYMENT, dtype: int64"
      ]
     },
     "execution_count": 41,
     "metadata": {},
     "output_type": "execute_result"
    }
   ],
   "source": [
    "df['CONTINUED_EMPLOYMENT'].value_counts()"
   ]
  },
  {
   "cell_type": "code",
   "execution_count": 42,
   "id": "e87d2eef",
   "metadata": {},
   "outputs": [
    {
     "name": "stderr",
     "output_type": "stream",
     "text": [
      "C:\\Users\\HP\\anaconda3\\lib\\site-packages\\seaborn\\_decorators.py:36: FutureWarning: Pass the following variable as a keyword arg: x. From version 0.12, the only valid positional argument will be `data`, and passing other arguments without an explicit keyword will result in an error or misinterpretation.\n",
      "  warnings.warn(\n"
     ]
    },
    {
     "data": {
      "text/plain": [
       "<AxesSubplot:xlabel='CONTINUED_EMPLOYMENT', ylabel='count'>"
      ]
     },
     "execution_count": 42,
     "metadata": {},
     "output_type": "execute_result"
    },
    {
     "data": {
      "image/png": "[encoded data removed]",
      "text/plain": [
       "<Figure size 576x396 with 1 Axes>"
      ]
     },
     "metadata": {},
     "output_type": "display_data"
    }
   ],
   "source": [
    "sns.countplot(df['CONTINUED_EMPLOYMENT'])"
   ]
  },
  {
   "cell_type": "code",
   "execution_count": 43,
   "id": "02e47f32",
   "metadata": {},
   "outputs": [
    {
     "data": {
      "text/plain": [
       "CERTIFIED    578640\n",
       "DENIED         5166\n",
       "Name: CASE_STATUS, dtype: int64"
      ]
     },
     "execution_count": 43,
     "metadata": {},
     "output_type": "execute_result"
    }
   ],
   "source": [
    "df['CASE_STATUS'].value_counts()"
   ]
  },
  {
   "cell_type": "code",
   "execution_count": 44,
   "id": "f3d1a50b",
   "metadata": {},
   "outputs": [
    {
     "name": "stderr",
     "output_type": "stream",
     "text": [
      "C:\\Users\\HP\\anaconda3\\lib\\site-packages\\seaborn\\_decorators.py:36: FutureWarning: Pass the following variable as a keyword arg: x. From version 0.12, the only valid positional argument will be `data`, and passing other arguments without an explicit keyword will result in an error or misinterpretation.\n",
      "  warnings.warn(\n"
     ]
    },
    {
     "data": {
      "text/plain": [
       "<AxesSubplot:xlabel='CASE_STATUS', ylabel='count'>"
      ]
     },
     "execution_count": 44,
     "metadata": {},
     "output_type": "execute_result"
    },
    {
     "data": {
      "image/png": "[encoded data removed]",
      "text/plain": [
       "<Figure size 576x396 with 1 Axes>"
      ]
     },
     "metadata": {},
     "output_type": "display_data"
    }
   ],
   "source": [
    "# There is more probability of being certified if an employer is not H-1B dependent\n",
    "sns.countplot(df['CASE_STATUS'],hue=df['H-1B_DEPENDENT'],palette='coolwarm')"
   ]
  },
  {
   "cell_type": "code",
   "execution_count": 45,
   "id": "0871c31e",
   "metadata": {},
   "outputs": [
    {
     "data": {
      "text/plain": [
       "array(['FANTUAN GROUP INC', 'TPUSA-FHCS', 'UNIVERSITY OF TEXAS AT DALLAS',\n",
       "       ..., 'EVEREST CONSULTANTS, INC.',\n",
       "       'EMBRAER EXECUTIVE AIRCRAFT, INC.',\n",
       "       'PORT LOGISTICS TERMINAL OPERATIONS, LLC'], dtype=object)"
      ]
     },
     "execution_count": 45,
     "metadata": {},
     "output_type": "execute_result"
    }
   ],
   "source": [
    "df['EMPLOYER_NAME'].unique()"
   ]
  },
  {
   "cell_type": "code",
   "execution_count": 46,
   "id": "829f3929",
   "metadata": {},
   "outputs": [],
   "source": [
    "order=df.groupby(by='EMPLOYER_NAME').count().sort_values(by='CASE_STATUS',ascending=False)['CASE_STATUS'].index[0:6]"
   ]
  },
  {
   "cell_type": "code",
   "execution_count": 47,
   "id": "8033c2c0",
   "metadata": {},
   "outputs": [
    {
     "data": {
      "text/plain": [
       "Index(['COGNIZANT TECHNOLOGY SOLUTIONS US CORP', 'INFOSYS LIMITED',\n",
       "       'TATA CONSULTANCY SERVICES LIMITED', 'GOOGLE LLC',\n",
       "       'ERNST & YOUNG U.S. LLP', 'CAPGEMINI AMERICA INC'],\n",
       "      dtype='object', name='EMPLOYER_NAME')"
      ]
     },
     "execution_count": 47,
     "metadata": {},
     "output_type": "execute_result"
    }
   ],
   "source": [
    "order"
   ]
  },
  {
   "cell_type": "code",
   "execution_count": 48,
   "id": "5cf96858",
   "metadata": {},
   "outputs": [
    {
     "data": {
      "text/plain": [
       "<AxesSubplot:xlabel='EMPLOYER_NAME', ylabel='count'>"
      ]
     },
     "execution_count": 48,
     "metadata": {},
     "output_type": "execute_result"
    },
    {
     "data": {
      "image/png": "[encoded data removed]",
      "text/plain": [
       "<Figure size 1440x432 with 1 Axes>"
      ]
     },
     "metadata": {},
     "output_type": "display_data"
    }
   ],
   "source": [
    "# Cognizant,Infosys,TCS,Google are the employers getting max VISA applications certified\n",
    "plt.figure(figsize=(20,6))\n",
    "sns.countplot(x='EMPLOYER_NAME',data=df,order=order,hue='CASE_STATUS',palette='dark')"
   ]
  },
  {
   "cell_type": "code",
   "execution_count": 49,
   "id": "93f40a24",
   "metadata": {},
   "outputs": [
    {
     "data": {
      "text/plain": [
       "Y    410472\n",
       "N    173329\n",
       "Name: AGENT_REPRESENTING_EMPLOYER, dtype: int64"
      ]
     },
     "execution_count": 49,
     "metadata": {},
     "output_type": "execute_result"
    }
   ],
   "source": [
    "df['AGENT_REPRESENTING_EMPLOYER'].value_counts()"
   ]
  },
  {
   "cell_type": "code",
   "execution_count": 50,
   "id": "3f2e478c",
   "metadata": {},
   "outputs": [
    {
     "data": {
      "text/plain": [
       "<AxesSubplot:xlabel='AGENT_REPRESENTING_EMPLOYER', ylabel='count'>"
      ]
     },
     "execution_count": 50,
     "metadata": {},
     "output_type": "execute_result"
    },
    {
     "data": {
      "image/png": "[encoded data removed]",
      "text/plain": [
       "<Figure size 576x396 with 1 Axes>"
      ]
     },
     "metadata": {},
     "output_type": "display_data"
    }
   ],
   "source": [
    "sns.countplot(x='AGENT_REPRESENTING_EMPLOYER',data=df,hue='CASE_STATUS')"
   ]
  },
  {
   "cell_type": "code",
   "execution_count": 51,
   "id": "d6607f40",
   "metadata": {},
   "outputs": [
    {
     "data": {
      "text/plain": [
       "array([nan, 'Y', 'N'], dtype=object)"
      ]
     },
     "execution_count": 51,
     "metadata": {},
     "output_type": "execute_result"
    }
   ],
   "source": [
    "df['SUPPORT_H1B'].unique()"
   ]
  },
  {
   "cell_type": "code",
   "execution_count": 52,
   "id": "7707e912",
   "metadata": {},
   "outputs": [
    {
     "data": {
      "text/plain": [
       "<AxesSubplot:xlabel='SUPPORT_H1B', ylabel='count'>"
      ]
     },
     "execution_count": 52,
     "metadata": {},
     "output_type": "execute_result"
    },
    {
     "data": {
      "image/png": "[encoded data removed]",
      "text/plain": [
       "<Figure size 576x396 with 1 Axes>"
      ]
     },
     "metadata": {},
     "output_type": "display_data"
    }
   ],
   "source": [
    "#There is max prob that the application will be certified if it will be used in the future to file for H1-B petitions\n",
    "sns.countplot(x='SUPPORT_H1B',data=df,hue='CASE_STATUS')"
   ]
  },
  {
   "cell_type": "code",
   "execution_count": 53,
   "id": "2c5b9fa2",
   "metadata": {},
   "outputs": [
    {
     "data": {
      "text/plain": [
       "Text(0, 0.5, 'NEW_CONCURRENT_EMPLOYMENT')"
      ]
     },
     "execution_count": 53,
     "metadata": {},
     "output_type": "execute_result"
    },
    {
     "data": {
      "image/png": "[encoded data removed]",
      "text/plain": [
       "<Figure size 576x396 with 1 Axes>"
      ]
     },
     "metadata": {},
     "output_type": "display_data"
    }
   ],
   "source": [
    "plt.scatter(df.CHANGE_EMPLOYER, df.NEW_CONCURRENT_EMPLOYMENT)\n",
    "\n",
    "plt.xlabel('CHANGE_EMPLOYER')\n",
    "plt.ylabel('NEW_CONCURRENT_EMPLOYMENT')"
   ]
  },
  {
   "cell_type": "code",
   "execution_count": null,
   "id": "9fe8e7b5",
   "metadata": {},
   "outputs": [],
   "source": []
  },
  {
   "cell_type": "code",
   "execution_count": null,
   "id": "38dd6a97",
   "metadata": {},
   "outputs": [],
   "source": []
  }
 ],
 "metadata": {
  "kernelspec": {
   "display_name": "Python 3 (ipykernel)",
   "language": "python",
   "name": "python3"
  },
  "language_info": {
   "codemirror_mode": {
    "name": "ipython",
    "version": 3
   },
   "file_extension": ".py",
   "mimetype": "text/x-python",
   "name": "python",
   "nbconvert_exporter": "python",
   "pygments_lexer": "ipython3",
   "version": "3.9.7"
  }
 },
 "nbformat": 4,
 "nbformat_minor": 5
}
